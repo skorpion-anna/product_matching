{
 "cells": [
  {
   "cell_type": "markdown",
   "metadata": {},
   "source": [
    "***Добрый день, данная работ принадлежит студенту Яндекс Практикума - Максимовой Анне Дмитриевне, телеграмм аккаунт для связи [Telegram @skorpioshka64](https://t.me/skorpioshka64)***"
   ]
  },
  {
   "cell_type": "markdown",
   "metadata": {},
   "source": [
    "##### Проект выполнялся в среде `Python` версии `3.12.4`"
   ]
  },
  {
   "cell_type": "code",
   "execution_count": 2,
   "metadata": {},
   "outputs": [],
   "source": [
    "import os\n",
    "\n",
    "import matplotlib.pyplot as plt\n",
    "import missingno as msno\n",
    "import numpy as np\n",
    "import pandas as pd\n",
    "import seaborn as sns\n"
   ]
  },
  {
   "cell_type": "code",
   "execution_count": 3,
   "metadata": {},
   "outputs": [],
   "source": [
    "def preprocessing(df):\n",
    "    print(\"Изучение данных датафрейма\")\n",
    "    print(\"Вывод первых 5 строк \\n\")\n",
    "    display(df.head(5))\n",
    "    print(\"-\" * 100)\n",
    "    print(f\"Размерность датафрейма, составляет - {(df.shape)}\")\n",
    "    print(\"-\" * 100)\n",
    "    print(\"Общая информация:\\n\")\n",
    "    display(df.info())\n",
    "    print(\"-\" * 100)\n",
    "    print(\"Описательная статистика:\\n\")\n",
    "    display(df.describe())\n",
    "    print(\"-\" * 100)\n",
    "    df.isna().sum()\n",
    "    print(\"Проверка на наличие явных дубликатов:\\n\")\n",
    "    display(df.duplicated().sum())\n",
    "    print(\"-\" * 100)\n",
    "    print(\"Вывод количества уникальных значений\")\n",
    "    display(pd.DataFrame(df.apply(lambda x: x.nunique())))"
   ]
  },
  {
   "cell_type": "code",
   "execution_count": 5,
   "metadata": {},
   "outputs": [],
   "source": [
    "# Пути к файлам\n",
    "pth1 = \"./datasets/base.csv\"\n",
    "pth2 = \"./datasets/train.csv\"\n",
    "pth3 = \"./datasets/validation.csv\"\n",
    "pth4 = \"./datasets/validation_answer.csv\"\n",
    "\n",
    "\n",
    "# Функция для загрузки файлов\n",
    "def load_csv(filepath):\n",
    "    if os.path.exists(filepath):\n",
    "        return pd.read_csv(filepath)\n",
    "    else:\n",
    "        print(f\"File not found: {filepath}\")\n",
    "        return None\n",
    "\n",
    "\n",
    "# Загрузка данных\n",
    "df_base = load_csv(pth1)\n",
    "df_train = load_csv(pth2)\n",
    "df_validation = load_csv(pth3)\n",
    "df_validation_answer = load_csv(pth4)\n"
   ]
  }
 ],
 "metadata": {
  "kernelspec": {
   "display_name": "practicum",
   "language": "python",
   "name": "python3"
  },
  "language_info": {
   "codemirror_mode": {
    "name": "ipython",
    "version": 3
   },
   "file_extension": ".py",
   "mimetype": "text/x-python",
   "name": "python",
   "nbconvert_exporter": "python",
   "pygments_lexer": "ipython3",
   "version": "3.12.4"
  }
 },
 "nbformat": 4,
 "nbformat_minor": 2
}
