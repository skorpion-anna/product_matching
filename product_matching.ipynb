{
  "cells": [
    {
      "cell_type": "code",
      "execution_count": 1,
      "metadata": {
        "id": "DnmgcIzjKAw4"
      },
      "outputs": [],
      "source": [
        "import os\n",
        "import sys\n",
        "\n",
        "import matplotlib.pyplot as plt\n",
        "import numpy as np\n",
        "import pandas as pd\n",
        "import scipy.stats as stats\n",
        "from sklearn.preprocessing import StandardScaler"
      ]
    },
    {
      "cell_type": "code",
      "execution_count": 2,
      "metadata": {
        "id": "vM-Up9QcLt00"
      },
      "outputs": [],
      "source": [
        "def preprocessing(df):\n",
        "    print(\"Изучение данных датафрейма\")\n",
        "    print(\"Вывод первых 5 строк \\n\")\n",
        "    display(df.head(5))\n",
        "    print(\"-\" * 100)\n",
        "\n",
        "    print(f\"Размерность датафрейма составляет - {df.shape}\")\n",
        "    print(\"-\" * 100)\n",
        "\n",
        "    print(\"Общая информация:\\n\")\n",
        "    display(df.info())\n",
        "    print(\"-\" * 100)\n",
        "\n",
        "    print(\"Описательная статистика:\\n\")\n",
        "    display(df.describe())\n",
        "    print(\"-\" * 100)\n",
        "\n",
        "    # Проверка на наличие пропусков\n",
        "    print(\"Проверка на наличие пропусков:\\n\")\n",
        "    missing_values = df.isna().sum().sum()\n",
        "    print(missing_values)\n",
        "    print(\"-\" * 100)\n",
        "\n",
        "    print(\"Проверка на наличие явных дубликатов:\\n\")\n",
        "    display(df.duplicated().sum())\n",
        "    print(\"-\" * 100)\n",
        "\n",
        "    print(\"Вывод количества уникальных значений:\\n\")\n",
        "    display(pd.DataFrame(df.apply(lambda x: x.nunique())))"
      ]
    },
    {
      "cell_type": "code",
      "execution_count": 3,
      "metadata": {
        "id": "JX0fvfLfmznx"
      },
      "outputs": [],
      "source": [
        "def optimize_memory_usage(df: pd.DataFrame, print_size: bool = True) -> pd.DataFrame:\n",
        "    \"\"\"\n",
        "    Function optimizes memory usage in dataframe\n",
        "    print_size: bool - display of optimization results\n",
        "    return pd.DataFrame - amount of optimized memory\n",
        "    \"\"\"\n",
        "\n",
        "    # Типы, которые будем проверять на оптимизацию\n",
        "    numerics = [\"int16\", \"int32\", \"int64\", \"float16\", \"float32\", \"float64\"]\n",
        "\n",
        "    # Размер занимаемой памяти до оптимизации (в Мб)\n",
        "    before_size = df.memory_usage().sum() / 1024**2\n",
        "    for column in df.columns:\n",
        "        column_type = df[column].dtypes\n",
        "        if column_type in numerics:\n",
        "            column_min = df[column].min()\n",
        "            column_max = df[column].max()\n",
        "            if str(column_type).startswith(\"int\"):\n",
        "                if column_min > np.iinfo(np.int8).min and column_max < np.iinfo(np.int8).max:\n",
        "                    df[column] = df[column].astype(np.int8)\n",
        "                elif column_min > np.iinfo(np.int16).min and column_max < np.iinfo(np.int16).max:\n",
        "                    df[column] = df[column].astype(np.int16)\n",
        "                elif column_min > np.iinfo(np.int32).min and column_max < np.iinfo(np.int32).max:\n",
        "                    df[column] = df[column].astype(np.int32)\n",
        "                elif column_min > np.iinfo(np.int64).min and column_max < np.iinfo(np.int64).max:\n",
        "                    df[column] = df[column].astype(np.int64)\n",
        "            else:\n",
        "                if column_min > np.finfo(np.float32).min and column_max < np.finfo(np.float32).max:\n",
        "                    df[column] = df[column].astype(np.float32)\n",
        "                else:\n",
        "                    df[column] = df[column].astype(np.float64)\n",
        "\n",
        "    # Размер занимаемой памяти после оптимизации (в Мб)\n",
        "    after_size = df.memory_usage().sum() / 1024**2\n",
        "    if print_size:\n",
        "        print(\n",
        "            f\"Размер использования памяти: до {before_size:5.2f} Mb - после {after_size:5.2f} Mb ({(before_size - after_size) / before_size:.1%})\"\n",
        "        )\n",
        "\n",
        "    return df"
      ]
    },
    {
      "cell_type": "code",
      "execution_count": 4,
      "metadata": {
        "id": "-FkSsmfHQHMM"
      },
      "outputs": [],
      "source": [
        "def plot_qq_grids(df, rows=8, cols=9, figsize=(27, 24), title=\"Q-Q графики для всех столбцов\"):\n",
        "    \"\"\"\n",
        "    Создает сетку Q-Q графиков для всех числовых столбцов в DataFrame.\n",
        "\n",
        "    Parameters:\n",
        "    df (pd.DataFrame): DataFrame с данными.\n",
        "    rows (int): Количество строк в сетке графиков.\n",
        "    cols (int): Количество столбцов в сетке графиков.\n",
        "    figsize (tuple): Размер фигуры.\n",
        "    title (str): Заголовок для всей фигуры.\n",
        "    \"\"\"\n",
        "    # Создание фигуры и осей\n",
        "    fig, axes = plt.subplots(rows, cols, figsize=figsize)\n",
        "    fig.suptitle(title, fontsize=16)\n",
        "\n",
        "    # Выбор только числовых столбцов\n",
        "    numeric_columns = df.select_dtypes(include=[np.number]).columns\n",
        "\n",
        "    # Итерация по столбцам и построение Q-Q графиков\n",
        "    for i, col in enumerate(numeric_columns):\n",
        "        row = i // cols  # row вычисляет номер строки, в которой должен находиться график.\n",
        "        col_pos = i % cols  # вычисляет номер столбца для текущего графика.\n",
        "        ax = axes[row, col_pos]\n",
        "        stats.probplot(df[col], dist=\"norm\", plot=ax)\n",
        "        ax.set_title(col, fontsize=10)\n",
        "        ax.set_xlabel(\"\")\n",
        "        ax.set_ylabel(\"\")\n",
        "\n",
        "    # Удаление пустых графиков, если количество столбцов не кратно числу графиков в строке\n",
        "    for j in range(len(numeric_columns), rows * cols):\n",
        "        fig.delaxes(axes.flatten()[j])\n",
        "\n",
        "    plt.tight_layout(\n",
        "        rect=[0, 0, 1, 0.96]\n",
        "    )  # Подгонка макета и оставление места для основного заголовка\n",
        "    plt.show()"
      ]
    },
    {
      "cell_type": "code",
      "execution_count": 5,
      "metadata": {
        "id": "KF72QA5AN7Ug"
      },
      "outputs": [],
      "source": [
        "# Пути к файлам\n",
        "pth1 = \"./datasets/base.csv\"\n",
        "pth2 = \"./datasets/train.csv\"\n",
        "pth3 = \"./datasets/validation.csv\"\n",
        "pth4 = \"./datasets/validation_answer.csv\"\n",
        "\n",
        "\n",
        "# Функция для загрузки файлов\n",
        "def load_csv(filepath):\n",
        "    if os.path.exists(filepath):\n",
        "        return pd.read_csv(filepath, index_col=0)\n",
        "    else:\n",
        "        print(f\"File not found: {filepath}\")\n",
        "        return None\n",
        "\n",
        "\n",
        "# Загрузка данных\n",
        "df_base = load_csv(pth1)\n",
        "df_train = load_csv(pth2)\n",
        "df_validation = load_csv(pth3)\n",
        "df_validation_answer = load_csv(pth4)"
      ]
    },
    {
      "cell_type": "code",
      "execution_count": 6,
      "metadata": {
        "colab": {
          "base_uri": "https://localhost:8080/"
        },
        "id": "c4QBDQjDnCbu",
        "outputId": "bfdeb212-65e0-43d4-aba9-7d41c8d497bc"
      },
      "outputs": [
        {
          "name": "stdout",
          "output_type": "stream",
          "text": [
            "Размер использования памяти: до 162.52 Mb - после 82.38 Mb (49.3%)\n",
            "Размер использования памяти: до  5.65 Mb - после  2.90 Mb (48.6%)\n",
            "Размер использования памяти: до  5.57 Mb - после  2.82 Mb (49.3%)\n",
            "Размер использования памяти: до  0.15 Mb - после  0.15 Mb (0.0%)\n"
          ]
        }
      ],
      "source": [
        "# Стандартизация названий колонок и оптимизация объема данных\n",
        "for df in [df_base, df_train, df_validation, df_validation_answer]:\n",
        "    df.columns = df.columns.str.lower()\n",
        "    df = optimize_memory_usage(df)\n",
        "\n",
        "del df"
      ]
    },
    {
      "cell_type": "code",
      "execution_count": 7,
      "metadata": {
        "colab": {
          "base_uri": "https://localhost:8080/",
          "height": 1000
        },
        "id": "psZcyjMekc61",
        "outputId": "8309ec40-085b-473a-dd20-d8b65c1513a3"
      },
      "outputs": [
        {
          "name": "stdout",
          "output_type": "stream",
          "text": [
            "Изучение данных датафрейма\n",
            "Вывод первых 5 строк \n",
            "\n"
          ]
        },
        {
          "data": {
            "text/html": [
              "<div>\n",
              "<style scoped>\n",
              "    .dataframe tbody tr th:only-of-type {\n",
              "        vertical-align: middle;\n",
              "    }\n",
              "\n",
              "    .dataframe tbody tr th {\n",
              "        vertical-align: top;\n",
              "    }\n",
              "\n",
              "    .dataframe thead th {\n",
              "        text-align: right;\n",
              "    }\n",
              "</style>\n",
              "<table border=\"1\" class=\"dataframe\">\n",
              "  <thead>\n",
              "    <tr style=\"text-align: right;\">\n",
              "      <th></th>\n",
              "      <th>0</th>\n",
              "      <th>1</th>\n",
              "      <th>2</th>\n",
              "      <th>3</th>\n",
              "      <th>4</th>\n",
              "      <th>5</th>\n",
              "      <th>6</th>\n",
              "      <th>7</th>\n",
              "      <th>8</th>\n",
              "      <th>9</th>\n",
              "      <th>...</th>\n",
              "      <th>62</th>\n",
              "      <th>63</th>\n",
              "      <th>64</th>\n",
              "      <th>65</th>\n",
              "      <th>66</th>\n",
              "      <th>67</th>\n",
              "      <th>68</th>\n",
              "      <th>69</th>\n",
              "      <th>70</th>\n",
              "      <th>71</th>\n",
              "    </tr>\n",
              "    <tr>\n",
              "      <th>Id</th>\n",
              "      <th></th>\n",
              "      <th></th>\n",
              "      <th></th>\n",
              "      <th></th>\n",
              "      <th></th>\n",
              "      <th></th>\n",
              "      <th></th>\n",
              "      <th></th>\n",
              "      <th></th>\n",
              "      <th></th>\n",
              "      <th></th>\n",
              "      <th></th>\n",
              "      <th></th>\n",
              "      <th></th>\n",
              "      <th></th>\n",
              "      <th></th>\n",
              "      <th></th>\n",
              "      <th></th>\n",
              "      <th></th>\n",
              "      <th></th>\n",
              "      <th></th>\n",
              "    </tr>\n",
              "  </thead>\n",
              "  <tbody>\n",
              "    <tr>\n",
              "      <th>4207931-base</th>\n",
              "      <td>-43.946243</td>\n",
              "      <td>15.364378</td>\n",
              "      <td>17.515854</td>\n",
              "      <td>-132.311462</td>\n",
              "      <td>157.064423</td>\n",
              "      <td>-4.069252</td>\n",
              "      <td>-340.630859</td>\n",
              "      <td>-57.550140</td>\n",
              "      <td>128.398224</td>\n",
              "      <td>45.090958</td>\n",
              "      <td>...</td>\n",
              "      <td>-71.927170</td>\n",
              "      <td>30.711966</td>\n",
              "      <td>-90.190475</td>\n",
              "      <td>-24.931271</td>\n",
              "      <td>66.972534</td>\n",
              "      <td>106.346634</td>\n",
              "      <td>-44.270622</td>\n",
              "      <td>155.988342</td>\n",
              "      <td>-1074.464844</td>\n",
              "      <td>-25.066608</td>\n",
              "    </tr>\n",
              "    <tr>\n",
              "      <th>2710972-base</th>\n",
              "      <td>-73.004890</td>\n",
              "      <td>4.923342</td>\n",
              "      <td>-19.750746</td>\n",
              "      <td>-136.529083</td>\n",
              "      <td>99.907173</td>\n",
              "      <td>-70.709106</td>\n",
              "      <td>-567.401978</td>\n",
              "      <td>-128.890152</td>\n",
              "      <td>109.914986</td>\n",
              "      <td>201.472198</td>\n",
              "      <td>...</td>\n",
              "      <td>-109.044662</td>\n",
              "      <td>20.916021</td>\n",
              "      <td>-171.201385</td>\n",
              "      <td>-110.596848</td>\n",
              "      <td>67.730103</td>\n",
              "      <td>8.909615</td>\n",
              "      <td>-9.470253</td>\n",
              "      <td>133.295364</td>\n",
              "      <td>-545.897034</td>\n",
              "      <td>-72.913231</td>\n",
              "    </tr>\n",
              "    <tr>\n",
              "      <th>1371460-base</th>\n",
              "      <td>-85.565567</td>\n",
              "      <td>-0.493598</td>\n",
              "      <td>-48.374817</td>\n",
              "      <td>-157.985016</td>\n",
              "      <td>96.809509</td>\n",
              "      <td>-81.710213</td>\n",
              "      <td>-22.297688</td>\n",
              "      <td>79.768669</td>\n",
              "      <td>124.357086</td>\n",
              "      <td>105.715179</td>\n",
              "      <td>...</td>\n",
              "      <td>-58.821651</td>\n",
              "      <td>41.369606</td>\n",
              "      <td>-132.934494</td>\n",
              "      <td>-43.016838</td>\n",
              "      <td>67.871925</td>\n",
              "      <td>141.778244</td>\n",
              "      <td>69.048523</td>\n",
              "      <td>111.720383</td>\n",
              "      <td>-1111.038818</td>\n",
              "      <td>-23.087206</td>\n",
              "    </tr>\n",
              "    <tr>\n",
              "      <th>3438601-base</th>\n",
              "      <td>-105.564087</td>\n",
              "      <td>15.393871</td>\n",
              "      <td>-46.223934</td>\n",
              "      <td>-158.114883</td>\n",
              "      <td>79.514114</td>\n",
              "      <td>-48.944481</td>\n",
              "      <td>-93.713013</td>\n",
              "      <td>38.581398</td>\n",
              "      <td>123.397957</td>\n",
              "      <td>110.324326</td>\n",
              "      <td>...</td>\n",
              "      <td>-87.907288</td>\n",
              "      <td>-58.806870</td>\n",
              "      <td>-147.794800</td>\n",
              "      <td>-155.830231</td>\n",
              "      <td>68.974754</td>\n",
              "      <td>21.397511</td>\n",
              "      <td>126.098785</td>\n",
              "      <td>139.733200</td>\n",
              "      <td>-1282.707275</td>\n",
              "      <td>-74.527939</td>\n",
              "    </tr>\n",
              "    <tr>\n",
              "      <th>422798-base</th>\n",
              "      <td>-74.638878</td>\n",
              "      <td>11.315012</td>\n",
              "      <td>-40.204174</td>\n",
              "      <td>-161.764297</td>\n",
              "      <td>50.507114</td>\n",
              "      <td>-80.775558</td>\n",
              "      <td>-640.923462</td>\n",
              "      <td>65.224998</td>\n",
              "      <td>122.344940</td>\n",
              "      <td>191.465851</td>\n",
              "      <td>...</td>\n",
              "      <td>-30.002094</td>\n",
              "      <td>53.642929</td>\n",
              "      <td>-149.823227</td>\n",
              "      <td>176.921371</td>\n",
              "      <td>69.473282</td>\n",
              "      <td>-43.395180</td>\n",
              "      <td>-58.947716</td>\n",
              "      <td>133.840637</td>\n",
              "      <td>-1074.464844</td>\n",
              "      <td>-1.164146</td>\n",
              "    </tr>\n",
              "  </tbody>\n",
              "</table>\n",
              "<p>5 rows × 72 columns</p>\n",
              "</div>"
            ],
            "text/plain": [
              "                       0          1          2           3           4  \\\n",
              "Id                                                                       \n",
              "4207931-base  -43.946243  15.364378  17.515854 -132.311462  157.064423   \n",
              "2710972-base  -73.004890   4.923342 -19.750746 -136.529083   99.907173   \n",
              "1371460-base  -85.565567  -0.493598 -48.374817 -157.985016   96.809509   \n",
              "3438601-base -105.564087  15.393871 -46.223934 -158.114883   79.514114   \n",
              "422798-base   -74.638878  11.315012 -40.204174 -161.764297   50.507114   \n",
              "\n",
              "                      5           6           7           8           9  ...  \\\n",
              "Id                                                                       ...   \n",
              "4207931-base  -4.069252 -340.630859  -57.550140  128.398224   45.090958  ...   \n",
              "2710972-base -70.709106 -567.401978 -128.890152  109.914986  201.472198  ...   \n",
              "1371460-base -81.710213  -22.297688   79.768669  124.357086  105.715179  ...   \n",
              "3438601-base -48.944481  -93.713013   38.581398  123.397957  110.324326  ...   \n",
              "422798-base  -80.775558 -640.923462   65.224998  122.344940  191.465851  ...   \n",
              "\n",
              "                      62         63          64          65         66  \\\n",
              "Id                                                                       \n",
              "4207931-base  -71.927170  30.711966  -90.190475  -24.931271  66.972534   \n",
              "2710972-base -109.044662  20.916021 -171.201385 -110.596848  67.730103   \n",
              "1371460-base  -58.821651  41.369606 -132.934494  -43.016838  67.871925   \n",
              "3438601-base  -87.907288 -58.806870 -147.794800 -155.830231  68.974754   \n",
              "422798-base   -30.002094  53.642929 -149.823227  176.921371  69.473282   \n",
              "\n",
              "                      67          68          69           70         71  \n",
              "Id                                                                        \n",
              "4207931-base  106.346634  -44.270622  155.988342 -1074.464844 -25.066608  \n",
              "2710972-base    8.909615   -9.470253  133.295364  -545.897034 -72.913231  \n",
              "1371460-base  141.778244   69.048523  111.720383 -1111.038818 -23.087206  \n",
              "3438601-base   21.397511  126.098785  139.733200 -1282.707275 -74.527939  \n",
              "422798-base   -43.395180  -58.947716  133.840637 -1074.464844  -1.164146  \n",
              "\n",
              "[5 rows x 72 columns]"
            ]
          },
          "metadata": {},
          "output_type": "display_data"
        },
        {
          "name": "stdout",
          "output_type": "stream",
          "text": [
            "----------------------------------------------------------------------------------------------------\n",
            "Размерность датафрейма составляет - (291813, 72)\n",
            "----------------------------------------------------------------------------------------------------\n",
            "Общая информация:\n",
            "\n",
            "<class 'pandas.core.frame.DataFrame'>\n",
            "Index: 291813 entries, 4207931-base to 274130-base\n",
            "Data columns (total 72 columns):\n",
            " #   Column  Non-Null Count   Dtype  \n",
            "---  ------  --------------   -----  \n",
            " 0   0       291813 non-null  float32\n",
            " 1   1       291813 non-null  float32\n",
            " 2   2       291813 non-null  float32\n",
            " 3   3       291813 non-null  float32\n",
            " 4   4       291813 non-null  float32\n",
            " 5   5       291813 non-null  float32\n",
            " 6   6       291813 non-null  float32\n",
            " 7   7       291813 non-null  float32\n",
            " 8   8       291813 non-null  float32\n",
            " 9   9       291813 non-null  float32\n",
            " 10  10      291813 non-null  float32\n",
            " 11  11      291813 non-null  float32\n",
            " 12  12      291813 non-null  float32\n",
            " 13  13      291813 non-null  float32\n",
            " 14  14      291813 non-null  float32\n",
            " 15  15      291813 non-null  float32\n",
            " 16  16      291813 non-null  float32\n",
            " 17  17      291813 non-null  float32\n",
            " 18  18      291813 non-null  float32\n",
            " 19  19      291813 non-null  float32\n",
            " 20  20      291813 non-null  float32\n",
            " 21  21      291813 non-null  float32\n",
            " 22  22      291813 non-null  float32\n",
            " 23  23      291813 non-null  float32\n",
            " 24  24      291813 non-null  float32\n",
            " 25  25      291813 non-null  float32\n",
            " 26  26      291813 non-null  float32\n",
            " 27  27      291813 non-null  float32\n",
            " 28  28      291813 non-null  float32\n",
            " 29  29      291813 non-null  float32\n",
            " 30  30      291813 non-null  float32\n",
            " 31  31      291813 non-null  float32\n",
            " 32  32      291813 non-null  float32\n",
            " 33  33      291813 non-null  float32\n",
            " 34  34      291813 non-null  float32\n",
            " 35  35      291813 non-null  float32\n",
            " 36  36      291813 non-null  float32\n",
            " 37  37      291813 non-null  float32\n",
            " 38  38      291813 non-null  float32\n",
            " 39  39      291813 non-null  float32\n",
            " 40  40      291813 non-null  float32\n",
            " 41  41      291813 non-null  float32\n",
            " 42  42      291813 non-null  float32\n",
            " 43  43      291813 non-null  float32\n",
            " 44  44      291813 non-null  float32\n",
            " 45  45      291813 non-null  float32\n",
            " 46  46      291813 non-null  float32\n",
            " 47  47      291813 non-null  float32\n",
            " 48  48      291813 non-null  float32\n",
            " 49  49      291813 non-null  float32\n",
            " 50  50      291813 non-null  float32\n",
            " 51  51      291813 non-null  float32\n",
            " 52  52      291813 non-null  float32\n",
            " 53  53      291813 non-null  float32\n",
            " 54  54      291813 non-null  float32\n",
            " 55  55      291813 non-null  float32\n",
            " 56  56      291813 non-null  float32\n",
            " 57  57      291813 non-null  float32\n",
            " 58  58      291813 non-null  float32\n",
            " 59  59      291813 non-null  float32\n",
            " 60  60      291813 non-null  float32\n",
            " 61  61      291813 non-null  float32\n",
            " 62  62      291813 non-null  float32\n",
            " 63  63      291813 non-null  float32\n",
            " 64  64      291813 non-null  float32\n",
            " 65  65      291813 non-null  float32\n",
            " 66  66      291813 non-null  float32\n",
            " 67  67      291813 non-null  float32\n",
            " 68  68      291813 non-null  float32\n",
            " 69  69      291813 non-null  float32\n",
            " 70  70      291813 non-null  float32\n",
            " 71  71      291813 non-null  float32\n",
            "dtypes: float32(72)\n",
            "memory usage: 82.4+ MB\n"
          ]
        },
        {
          "data": {
            "text/plain": [
              "None"
            ]
          },
          "metadata": {},
          "output_type": "display_data"
        },
        {
          "name": "stdout",
          "output_type": "stream",
          "text": [
            "----------------------------------------------------------------------------------------------------\n",
            "Описательная статистика:\n",
            "\n"
          ]
        },
        {
          "data": {
            "text/html": [
              "<div>\n",
              "<style scoped>\n",
              "    .dataframe tbody tr th:only-of-type {\n",
              "        vertical-align: middle;\n",
              "    }\n",
              "\n",
              "    .dataframe tbody tr th {\n",
              "        vertical-align: top;\n",
              "    }\n",
              "\n",
              "    .dataframe thead th {\n",
              "        text-align: right;\n",
              "    }\n",
              "</style>\n",
              "<table border=\"1\" class=\"dataframe\">\n",
              "  <thead>\n",
              "    <tr style=\"text-align: right;\">\n",
              "      <th></th>\n",
              "      <th>0</th>\n",
              "      <th>1</th>\n",
              "      <th>2</th>\n",
              "      <th>3</th>\n",
              "      <th>4</th>\n",
              "      <th>5</th>\n",
              "      <th>6</th>\n",
              "      <th>7</th>\n",
              "      <th>8</th>\n",
              "      <th>9</th>\n",
              "      <th>...</th>\n",
              "      <th>62</th>\n",
              "      <th>63</th>\n",
              "      <th>64</th>\n",
              "      <th>65</th>\n",
              "      <th>66</th>\n",
              "      <th>67</th>\n",
              "      <th>68</th>\n",
              "      <th>69</th>\n",
              "      <th>70</th>\n",
              "      <th>71</th>\n",
              "    </tr>\n",
              "  </thead>\n",
              "  <tbody>\n",
              "    <tr>\n",
              "      <th>count</th>\n",
              "      <td>291813.000000</td>\n",
              "      <td>291813.000000</td>\n",
              "      <td>291813.000000</td>\n",
              "      <td>291813.000000</td>\n",
              "      <td>291813.000000</td>\n",
              "      <td>291813.000000</td>\n",
              "      <td>291813.000000</td>\n",
              "      <td>291813.000000</td>\n",
              "      <td>291813.000000</td>\n",
              "      <td>291813.000000</td>\n",
              "      <td>...</td>\n",
              "      <td>291813.000000</td>\n",
              "      <td>291813.000000</td>\n",
              "      <td>291813.000000</td>\n",
              "      <td>291813.000000</td>\n",
              "      <td>291813.000000</td>\n",
              "      <td>291813.000000</td>\n",
              "      <td>291813.000000</td>\n",
              "      <td>291813.000000</td>\n",
              "      <td>291813.000000</td>\n",
              "      <td>291813.000000</td>\n",
              "    </tr>\n",
              "    <tr>\n",
              "      <th>mean</th>\n",
              "      <td>-86.274734</td>\n",
              "      <td>8.078087</td>\n",
              "      <td>-44.613483</td>\n",
              "      <td>-146.605530</td>\n",
              "      <td>111.261185</td>\n",
              "      <td>-71.875023</td>\n",
              "      <td>-393.430481</td>\n",
              "      <td>20.391975</td>\n",
              "      <td>123.676727</td>\n",
              "      <td>124.427147</td>\n",
              "      <td>...</td>\n",
              "      <td>-79.075195</td>\n",
              "      <td>33.244843</td>\n",
              "      <td>-154.720276</td>\n",
              "      <td>13.699276</td>\n",
              "      <td>67.792664</td>\n",
              "      <td>23.543148</td>\n",
              "      <td>74.890038</td>\n",
              "      <td>115.611366</td>\n",
              "      <td>-798.355225</td>\n",
              "      <td>-47.701336</td>\n",
              "    </tr>\n",
              "    <tr>\n",
              "      <th>std</th>\n",
              "      <td>24.918947</td>\n",
              "      <td>4.949495</td>\n",
              "      <td>38.545929</td>\n",
              "      <td>19.842726</td>\n",
              "      <td>46.350082</td>\n",
              "      <td>28.189743</td>\n",
              "      <td>272.084930</td>\n",
              "      <td>64.297195</td>\n",
              "      <td>6.352832</td>\n",
              "      <td>64.366631</td>\n",
              "      <td>...</td>\n",
              "      <td>30.485073</td>\n",
              "      <td>28.896143</td>\n",
              "      <td>41.217567</td>\n",
              "      <td>98.996414</td>\n",
              "      <td>1.825081</td>\n",
              "      <td>55.353031</td>\n",
              "      <td>61.320347</td>\n",
              "      <td>21.219221</td>\n",
              "      <td>385.414337</td>\n",
              "      <td>41.731026</td>\n",
              "    </tr>\n",
              "    <tr>\n",
              "      <th>min</th>\n",
              "      <td>-189.356018</td>\n",
              "      <td>-12.594500</td>\n",
              "      <td>-231.785919</td>\n",
              "      <td>-224.880493</td>\n",
              "      <td>-95.240829</td>\n",
              "      <td>-188.473328</td>\n",
              "      <td>-791.468750</td>\n",
              "      <td>-296.171051</td>\n",
              "      <td>93.684616</td>\n",
              "      <td>-143.499603</td>\n",
              "      <td>...</td>\n",
              "      <td>-214.821136</td>\n",
              "      <td>-85.825500</td>\n",
              "      <td>-346.239319</td>\n",
              "      <td>-157.593872</td>\n",
              "      <td>59.835789</td>\n",
              "      <td>-213.492416</td>\n",
              "      <td>-190.483154</td>\n",
              "      <td>18.601448</td>\n",
              "      <td>-1297.924927</td>\n",
              "      <td>-209.935760</td>\n",
              "    </tr>\n",
              "    <tr>\n",
              "      <th>25%</th>\n",
              "      <td>-103.154297</td>\n",
              "      <td>4.709408</td>\n",
              "      <td>-69.535896</td>\n",
              "      <td>-159.882736</td>\n",
              "      <td>80.367638</td>\n",
              "      <td>-91.227936</td>\n",
              "      <td>-631.937866</td>\n",
              "      <td>-22.085905</td>\n",
              "      <td>119.473625</td>\n",
              "      <td>81.685608</td>\n",
              "      <td>...</td>\n",
              "      <td>-98.823830</td>\n",
              "      <td>16.952824</td>\n",
              "      <td>-180.695557</td>\n",
              "      <td>-71.763962</td>\n",
              "      <td>66.582787</td>\n",
              "      <td>-12.501141</td>\n",
              "      <td>33.784821</td>\n",
              "      <td>101.675659</td>\n",
              "      <td>-1074.464844</td>\n",
              "      <td>-75.621109</td>\n",
              "    </tr>\n",
              "    <tr>\n",
              "      <th>50%</th>\n",
              "      <td>-86.308128</td>\n",
              "      <td>8.040010</td>\n",
              "      <td>-43.838493</td>\n",
              "      <td>-146.717361</td>\n",
              "      <td>111.776871</td>\n",
              "      <td>-71.751823</td>\n",
              "      <td>-424.306915</td>\n",
              "      <td>20.850153</td>\n",
              "      <td>123.882500</td>\n",
              "      <td>123.456268</td>\n",
              "      <td>...</td>\n",
              "      <td>-78.538177</td>\n",
              "      <td>34.682541</td>\n",
              "      <td>-153.902832</td>\n",
              "      <td>13.167371</td>\n",
              "      <td>67.815048</td>\n",
              "      <td>23.461630</td>\n",
              "      <td>74.876984</td>\n",
              "      <td>116.049271</td>\n",
              "      <td>-1074.464844</td>\n",
              "      <td>-48.403816</td>\n",
              "    </tr>\n",
              "    <tr>\n",
              "      <th>75%</th>\n",
              "      <td>-69.254616</td>\n",
              "      <td>11.466815</td>\n",
              "      <td>-19.694052</td>\n",
              "      <td>-133.320145</td>\n",
              "      <td>142.364609</td>\n",
              "      <td>-52.310825</td>\n",
              "      <td>-157.342697</td>\n",
              "      <td>63.989326</td>\n",
              "      <td>127.967766</td>\n",
              "      <td>167.014130</td>\n",
              "      <td>...</td>\n",
              "      <td>-58.638412</td>\n",
              "      <td>52.097710</td>\n",
              "      <td>-127.221359</td>\n",
              "      <td>99.362213</td>\n",
              "      <td>69.028801</td>\n",
              "      <td>59.740337</td>\n",
              "      <td>115.896881</td>\n",
              "      <td>129.625946</td>\n",
              "      <td>-504.291168</td>\n",
              "      <td>-19.684170</td>\n",
              "    </tr>\n",
              "    <tr>\n",
              "      <th>max</th>\n",
              "      <td>15.574615</td>\n",
              "      <td>28.751917</td>\n",
              "      <td>151.377075</td>\n",
              "      <td>-55.167892</td>\n",
              "      <td>299.307922</td>\n",
              "      <td>49.880882</td>\n",
              "      <td>109.631989</td>\n",
              "      <td>301.094238</td>\n",
              "      <td>147.870911</td>\n",
              "      <td>402.994598</td>\n",
              "      <td>...</td>\n",
              "      <td>48.822197</td>\n",
              "      <td>141.025269</td>\n",
              "      <td>17.344528</td>\n",
              "      <td>185.096725</td>\n",
              "      <td>75.474625</td>\n",
              "      <td>264.347198</td>\n",
              "      <td>319.601044</td>\n",
              "      <td>213.577255</td>\n",
              "      <td>98.770813</td>\n",
              "      <td>126.973221</td>\n",
              "    </tr>\n",
              "  </tbody>\n",
              "</table>\n",
              "<p>8 rows × 72 columns</p>\n",
              "</div>"
            ],
            "text/plain": [
              "                   0              1              2              3  \\\n",
              "count  291813.000000  291813.000000  291813.000000  291813.000000   \n",
              "mean      -86.274734       8.078087     -44.613483    -146.605530   \n",
              "std        24.918947       4.949495      38.545929      19.842726   \n",
              "min      -189.356018     -12.594500    -231.785919    -224.880493   \n",
              "25%      -103.154297       4.709408     -69.535896    -159.882736   \n",
              "50%       -86.308128       8.040010     -43.838493    -146.717361   \n",
              "75%       -69.254616      11.466815     -19.694052    -133.320145   \n",
              "max        15.574615      28.751917     151.377075     -55.167892   \n",
              "\n",
              "                   4              5              6              7  \\\n",
              "count  291813.000000  291813.000000  291813.000000  291813.000000   \n",
              "mean      111.261185     -71.875023    -393.430481      20.391975   \n",
              "std        46.350082      28.189743     272.084930      64.297195   \n",
              "min       -95.240829    -188.473328    -791.468750    -296.171051   \n",
              "25%        80.367638     -91.227936    -631.937866     -22.085905   \n",
              "50%       111.776871     -71.751823    -424.306915      20.850153   \n",
              "75%       142.364609     -52.310825    -157.342697      63.989326   \n",
              "max       299.307922      49.880882     109.631989     301.094238   \n",
              "\n",
              "                   8              9  ...             62             63  \\\n",
              "count  291813.000000  291813.000000  ...  291813.000000  291813.000000   \n",
              "mean      123.676727     124.427147  ...     -79.075195      33.244843   \n",
              "std         6.352832      64.366631  ...      30.485073      28.896143   \n",
              "min        93.684616    -143.499603  ...    -214.821136     -85.825500   \n",
              "25%       119.473625      81.685608  ...     -98.823830      16.952824   \n",
              "50%       123.882500     123.456268  ...     -78.538177      34.682541   \n",
              "75%       127.967766     167.014130  ...     -58.638412      52.097710   \n",
              "max       147.870911     402.994598  ...      48.822197     141.025269   \n",
              "\n",
              "                  64             65             66             67  \\\n",
              "count  291813.000000  291813.000000  291813.000000  291813.000000   \n",
              "mean     -154.720276      13.699276      67.792664      23.543148   \n",
              "std        41.217567      98.996414       1.825081      55.353031   \n",
              "min      -346.239319    -157.593872      59.835789    -213.492416   \n",
              "25%      -180.695557     -71.763962      66.582787     -12.501141   \n",
              "50%      -153.902832      13.167371      67.815048      23.461630   \n",
              "75%      -127.221359      99.362213      69.028801      59.740337   \n",
              "max        17.344528     185.096725      75.474625     264.347198   \n",
              "\n",
              "                  68             69             70             71  \n",
              "count  291813.000000  291813.000000  291813.000000  291813.000000  \n",
              "mean       74.890038     115.611366    -798.355225     -47.701336  \n",
              "std        61.320347      21.219221     385.414337      41.731026  \n",
              "min      -190.483154      18.601448   -1297.924927    -209.935760  \n",
              "25%        33.784821     101.675659   -1074.464844     -75.621109  \n",
              "50%        74.876984     116.049271   -1074.464844     -48.403816  \n",
              "75%       115.896881     129.625946    -504.291168     -19.684170  \n",
              "max       319.601044     213.577255      98.770813     126.973221  \n",
              "\n",
              "[8 rows x 72 columns]"
            ]
          },
          "metadata": {},
          "output_type": "display_data"
        },
        {
          "name": "stdout",
          "output_type": "stream",
          "text": [
            "----------------------------------------------------------------------------------------------------\n",
            "Проверка на наличие пропусков:\n",
            "\n",
            "0\n",
            "----------------------------------------------------------------------------------------------------\n",
            "Проверка на наличие явных дубликатов:\n",
            "\n"
          ]
        },
        {
          "data": {
            "text/plain": [
              "11278"
            ]
          },
          "metadata": {},
          "output_type": "display_data"
        },
        {
          "name": "stdout",
          "output_type": "stream",
          "text": [
            "----------------------------------------------------------------------------------------------------\n",
            "Вывод количества уникальных значений:\n",
            "\n"
          ]
        },
        {
          "data": {
            "text/html": [
              "<div>\n",
              "<style scoped>\n",
              "    .dataframe tbody tr th:only-of-type {\n",
              "        vertical-align: middle;\n",
              "    }\n",
              "\n",
              "    .dataframe tbody tr th {\n",
              "        vertical-align: top;\n",
              "    }\n",
              "\n",
              "    .dataframe thead th {\n",
              "        text-align: right;\n",
              "    }\n",
              "</style>\n",
              "<table border=\"1\" class=\"dataframe\">\n",
              "  <thead>\n",
              "    <tr style=\"text-align: right;\">\n",
              "      <th></th>\n",
              "      <th>0</th>\n",
              "    </tr>\n",
              "  </thead>\n",
              "  <tbody>\n",
              "    <tr>\n",
              "      <th>0</th>\n",
              "      <td>256118</td>\n",
              "    </tr>\n",
              "    <tr>\n",
              "      <th>1</th>\n",
              "      <td>257296</td>\n",
              "    </tr>\n",
              "    <tr>\n",
              "      <th>2</th>\n",
              "      <td>257709</td>\n",
              "    </tr>\n",
              "    <tr>\n",
              "      <th>3</th>\n",
              "      <td>252056</td>\n",
              "    </tr>\n",
              "    <tr>\n",
              "      <th>4</th>\n",
              "      <td>256764</td>\n",
              "    </tr>\n",
              "    <tr>\n",
              "      <th>...</th>\n",
              "      <td>...</td>\n",
              "    </tr>\n",
              "    <tr>\n",
              "      <th>67</th>\n",
              "      <td>257894</td>\n",
              "    </tr>\n",
              "    <tr>\n",
              "      <th>68</th>\n",
              "      <td>257492</td>\n",
              "    </tr>\n",
              "    <tr>\n",
              "      <th>69</th>\n",
              "      <td>254869</td>\n",
              "    </tr>\n",
              "    <tr>\n",
              "      <th>70</th>\n",
              "      <td>160803</td>\n",
              "    </tr>\n",
              "    <tr>\n",
              "      <th>71</th>\n",
              "      <td>257474</td>\n",
              "    </tr>\n",
              "  </tbody>\n",
              "</table>\n",
              "<p>72 rows × 1 columns</p>\n",
              "</div>"
            ],
            "text/plain": [
              "         0\n",
              "0   256118\n",
              "1   257296\n",
              "2   257709\n",
              "3   252056\n",
              "4   256764\n",
              "..     ...\n",
              "67  257894\n",
              "68  257492\n",
              "69  254869\n",
              "70  160803\n",
              "71  257474\n",
              "\n",
              "[72 rows x 1 columns]"
            ]
          },
          "metadata": {},
          "output_type": "display_data"
        }
      ],
      "source": [
        "preprocessing(df_base)"
      ]
    },
    {
      "cell_type": "code",
      "execution_count": 8,
      "metadata": {
        "id": "azVVXSS6ubyj"
      },
      "outputs": [],
      "source": [
        "# df_base.hist(figsize=(25,25));"
      ]
    },
    {
      "cell_type": "markdown",
      "metadata": {
        "id": "asS2rL_8xWrZ"
      },
      "source": [
        "**Q-Q график (квантиль-квантиль график):**\n",
        "\n",
        "Показывает насколько данные совпадают с нормальным распределением, сравнивая квантиль данных с квантилями нормального распределения.\n",
        "В Q-Q графике точки должны быть близки к прямой линии, если данные нормально распределены."
      ]
    },
    {
      "cell_type": "code",
      "execution_count": 9,
      "metadata": {
        "id": "wTLeRphGvZJ0"
      },
      "outputs": [],
      "source": [
        "# plot_qq_grids(df_base)"
      ]
    },
    {
      "cell_type": "markdown",
      "metadata": {
        "id": "uWzhx5fF0hNG"
      },
      "source": [
        "**Вывод**  \n",
        "В результате анализа датасета с 72 колонками и 291813 строками были получены следующие ключевые моменты:\n",
        "\n",
        "- Дубликаты: Обнаружено 11278 дубликатов. Рекомендуется провести их удаление для повышения качества анализа и моделирования.\n",
        "- Пропуски: Пропуски отсутствуют, что позволяет использовать все доступные данные для дальнейшего анализа.\n",
        "- Типы данных: Все значения числовые и успешно приведены к формату float32, что оптимизирует использование памяти.\n",
        "- Названия признаков: Признаки без имен, пронумерованные по порядку. Вероятно, данные закодированы, что следует учитывать при интерпретации результатов.\n",
        "- Стандартизация: Разнообразие диапазонов значений признаков требует стандартизации для улучшения производительности моделей.\n",
        "- Распределение значений: Большинство признаков имеют распределение, близкое к нормальному. Однако признаки с номерами 6, 21, 25, 33, 44, 59, 65 и 70 имеют отклонения. Рекомендуется рассмотреть возможность их удаления, поскольку недостаток понимания их значимости может усложнить процесс моделирования."
      ]
    },
    {
      "cell_type": "markdown",
      "metadata": {
        "id": "E0iOhFX7tR15"
      },
      "source": [
        "## Посмотрим данные в столбце df_train"
      ]
    },
    {
      "cell_type": "code",
      "execution_count": 10,
      "metadata": {
        "colab": {
          "base_uri": "https://localhost:8080/",
          "height": 1000
        },
        "id": "4h_s9XnWtN85",
        "outputId": "8fc8a19c-1384-4cd0-f0a7-497ea9258dde"
      },
      "outputs": [
        {
          "name": "stdout",
          "output_type": "stream",
          "text": [
            "Изучение данных датафрейма\n",
            "Вывод первых 5 строк \n",
            "\n"
          ]
        },
        {
          "data": {
            "text/html": [
              "<div>\n",
              "<style scoped>\n",
              "    .dataframe tbody tr th:only-of-type {\n",
              "        vertical-align: middle;\n",
              "    }\n",
              "\n",
              "    .dataframe tbody tr th {\n",
              "        vertical-align: top;\n",
              "    }\n",
              "\n",
              "    .dataframe thead th {\n",
              "        text-align: right;\n",
              "    }\n",
              "</style>\n",
              "<table border=\"1\" class=\"dataframe\">\n",
              "  <thead>\n",
              "    <tr style=\"text-align: right;\">\n",
              "      <th></th>\n",
              "      <th>0</th>\n",
              "      <th>1</th>\n",
              "      <th>2</th>\n",
              "      <th>3</th>\n",
              "      <th>4</th>\n",
              "      <th>5</th>\n",
              "      <th>6</th>\n",
              "      <th>7</th>\n",
              "      <th>8</th>\n",
              "      <th>9</th>\n",
              "      <th>...</th>\n",
              "      <th>63</th>\n",
              "      <th>64</th>\n",
              "      <th>65</th>\n",
              "      <th>66</th>\n",
              "      <th>67</th>\n",
              "      <th>68</th>\n",
              "      <th>69</th>\n",
              "      <th>70</th>\n",
              "      <th>71</th>\n",
              "      <th>target</th>\n",
              "    </tr>\n",
              "    <tr>\n",
              "      <th>Id</th>\n",
              "      <th></th>\n",
              "      <th></th>\n",
              "      <th></th>\n",
              "      <th></th>\n",
              "      <th></th>\n",
              "      <th></th>\n",
              "      <th></th>\n",
              "      <th></th>\n",
              "      <th></th>\n",
              "      <th></th>\n",
              "      <th></th>\n",
              "      <th></th>\n",
              "      <th></th>\n",
              "      <th></th>\n",
              "      <th></th>\n",
              "      <th></th>\n",
              "      <th></th>\n",
              "      <th></th>\n",
              "      <th></th>\n",
              "      <th></th>\n",
              "      <th></th>\n",
              "    </tr>\n",
              "  </thead>\n",
              "  <tbody>\n",
              "    <tr>\n",
              "      <th>109249-query</th>\n",
              "      <td>-24.021454</td>\n",
              "      <td>3.122524</td>\n",
              "      <td>-80.947525</td>\n",
              "      <td>-112.329994</td>\n",
              "      <td>191.090179</td>\n",
              "      <td>-66.903130</td>\n",
              "      <td>-759.626038</td>\n",
              "      <td>-75.284454</td>\n",
              "      <td>120.551491</td>\n",
              "      <td>131.131699</td>\n",
              "      <td>...</td>\n",
              "      <td>-24.601669</td>\n",
              "      <td>-167.760773</td>\n",
              "      <td>133.678513</td>\n",
              "      <td>68.184601</td>\n",
              "      <td>26.317545</td>\n",
              "      <td>11.938202</td>\n",
              "      <td>148.549316</td>\n",
              "      <td>-778.563354</td>\n",
              "      <td>-46.877750</td>\n",
              "      <td>66971-base</td>\n",
              "    </tr>\n",
              "    <tr>\n",
              "      <th>34137-query</th>\n",
              "      <td>-82.033577</td>\n",
              "      <td>8.115866</td>\n",
              "      <td>-8.793022</td>\n",
              "      <td>-182.972107</td>\n",
              "      <td>56.645336</td>\n",
              "      <td>-52.597610</td>\n",
              "      <td>-55.720337</td>\n",
              "      <td>130.059250</td>\n",
              "      <td>129.383347</td>\n",
              "      <td>76.202881</td>\n",
              "      <td>...</td>\n",
              "      <td>54.448433</td>\n",
              "      <td>-120.894806</td>\n",
              "      <td>-12.292085</td>\n",
              "      <td>66.608116</td>\n",
              "      <td>-27.997612</td>\n",
              "      <td>10.091335</td>\n",
              "      <td>95.809265</td>\n",
              "      <td>-1022.691528</td>\n",
              "      <td>-88.564705</td>\n",
              "      <td>1433819-base</td>\n",
              "    </tr>\n",
              "    <tr>\n",
              "      <th>136121-query</th>\n",
              "      <td>-75.719643</td>\n",
              "      <td>-0.223386</td>\n",
              "      <td>-86.186127</td>\n",
              "      <td>-162.064056</td>\n",
              "      <td>114.320114</td>\n",
              "      <td>-53.394600</td>\n",
              "      <td>-117.261017</td>\n",
              "      <td>-24.857851</td>\n",
              "      <td>124.807800</td>\n",
              "      <td>112.190155</td>\n",
              "      <td>...</td>\n",
              "      <td>-5.609123</td>\n",
              "      <td>-93.029877</td>\n",
              "      <td>-80.997871</td>\n",
              "      <td>63.733383</td>\n",
              "      <td>11.378683</td>\n",
              "      <td>62.932007</td>\n",
              "      <td>130.975388</td>\n",
              "      <td>-1074.464844</td>\n",
              "      <td>-74.861176</td>\n",
              "      <td>290133-base</td>\n",
              "    </tr>\n",
              "    <tr>\n",
              "      <th>105191-query</th>\n",
              "      <td>-56.580620</td>\n",
              "      <td>5.093593</td>\n",
              "      <td>-46.943111</td>\n",
              "      <td>-149.039124</td>\n",
              "      <td>112.436432</td>\n",
              "      <td>-76.820511</td>\n",
              "      <td>-324.995636</td>\n",
              "      <td>-32.833107</td>\n",
              "      <td>119.478653</td>\n",
              "      <td>120.074791</td>\n",
              "      <td>...</td>\n",
              "      <td>21.624313</td>\n",
              "      <td>-158.880371</td>\n",
              "      <td>179.597290</td>\n",
              "      <td>69.891357</td>\n",
              "      <td>-33.804955</td>\n",
              "      <td>233.914612</td>\n",
              "      <td>122.868546</td>\n",
              "      <td>-1074.464844</td>\n",
              "      <td>-93.775375</td>\n",
              "      <td>1270048-base</td>\n",
              "    </tr>\n",
              "    <tr>\n",
              "      <th>63983-query</th>\n",
              "      <td>-52.725651</td>\n",
              "      <td>9.027046</td>\n",
              "      <td>-92.829651</td>\n",
              "      <td>-113.111008</td>\n",
              "      <td>134.124969</td>\n",
              "      <td>-42.423073</td>\n",
              "      <td>-759.626038</td>\n",
              "      <td>8.261168</td>\n",
              "      <td>119.490227</td>\n",
              "      <td>172.365356</td>\n",
              "      <td>...</td>\n",
              "      <td>13.807772</td>\n",
              "      <td>-208.650040</td>\n",
              "      <td>41.742016</td>\n",
              "      <td>66.522423</td>\n",
              "      <td>41.362930</td>\n",
              "      <td>162.723053</td>\n",
              "      <td>111.261307</td>\n",
              "      <td>-151.162811</td>\n",
              "      <td>-33.831451</td>\n",
              "      <td>168591-base</td>\n",
              "    </tr>\n",
              "  </tbody>\n",
              "</table>\n",
              "<p>5 rows × 73 columns</p>\n",
              "</div>"
            ],
            "text/plain": [
              "                      0         1          2           3           4  \\\n",
              "Id                                                                     \n",
              "109249-query -24.021454  3.122524 -80.947525 -112.329994  191.090179   \n",
              "34137-query  -82.033577  8.115866  -8.793022 -182.972107   56.645336   \n",
              "136121-query -75.719643 -0.223386 -86.186127 -162.064056  114.320114   \n",
              "105191-query -56.580620  5.093593 -46.943111 -149.039124  112.436432   \n",
              "63983-query  -52.725651  9.027046 -92.829651 -113.111008  134.124969   \n",
              "\n",
              "                      5           6           7           8           9  ...  \\\n",
              "Id                                                                       ...   \n",
              "109249-query -66.903130 -759.626038  -75.284454  120.551491  131.131699  ...   \n",
              "34137-query  -52.597610  -55.720337  130.059250  129.383347   76.202881  ...   \n",
              "136121-query -53.394600 -117.261017  -24.857851  124.807800  112.190155  ...   \n",
              "105191-query -76.820511 -324.995636  -32.833107  119.478653  120.074791  ...   \n",
              "63983-query  -42.423073 -759.626038    8.261168  119.490227  172.365356  ...   \n",
              "\n",
              "                     63          64          65         66         67  \\\n",
              "Id                                                                      \n",
              "109249-query -24.601669 -167.760773  133.678513  68.184601  26.317545   \n",
              "34137-query   54.448433 -120.894806  -12.292085  66.608116 -27.997612   \n",
              "136121-query  -5.609123  -93.029877  -80.997871  63.733383  11.378683   \n",
              "105191-query  21.624313 -158.880371  179.597290  69.891357 -33.804955   \n",
              "63983-query   13.807772 -208.650040   41.742016  66.522423  41.362930   \n",
              "\n",
              "                      68          69           70         71        target  \n",
              "Id                                                                          \n",
              "109249-query   11.938202  148.549316  -778.563354 -46.877750    66971-base  \n",
              "34137-query    10.091335   95.809265 -1022.691528 -88.564705  1433819-base  \n",
              "136121-query   62.932007  130.975388 -1074.464844 -74.861176   290133-base  \n",
              "105191-query  233.914612  122.868546 -1074.464844 -93.775375  1270048-base  \n",
              "63983-query   162.723053  111.261307  -151.162811 -33.831451   168591-base  \n",
              "\n",
              "[5 rows x 73 columns]"
            ]
          },
          "metadata": {},
          "output_type": "display_data"
        },
        {
          "name": "stdout",
          "output_type": "stream",
          "text": [
            "----------------------------------------------------------------------------------------------------\n",
            "Размерность датафрейма составляет - (9999, 73)\n",
            "----------------------------------------------------------------------------------------------------\n",
            "Общая информация:\n",
            "\n",
            "<class 'pandas.core.frame.DataFrame'>\n",
            "Index: 9999 entries, 109249-query to 13504-query\n",
            "Data columns (total 73 columns):\n",
            " #   Column  Non-Null Count  Dtype  \n",
            "---  ------  --------------  -----  \n",
            " 0   0       9999 non-null   float32\n",
            " 1   1       9999 non-null   float32\n",
            " 2   2       9999 non-null   float32\n",
            " 3   3       9999 non-null   float32\n",
            " 4   4       9999 non-null   float32\n",
            " 5   5       9999 non-null   float32\n",
            " 6   6       9999 non-null   float32\n",
            " 7   7       9999 non-null   float32\n",
            " 8   8       9999 non-null   float32\n",
            " 9   9       9999 non-null   float32\n",
            " 10  10      9999 non-null   float32\n",
            " 11  11      9999 non-null   float32\n",
            " 12  12      9999 non-null   float32\n",
            " 13  13      9999 non-null   float32\n",
            " 14  14      9999 non-null   float32\n",
            " 15  15      9999 non-null   float32\n",
            " 16  16      9999 non-null   float32\n",
            " 17  17      9999 non-null   float32\n",
            " 18  18      9999 non-null   float32\n",
            " 19  19      9999 non-null   float32\n",
            " 20  20      9999 non-null   float32\n",
            " 21  21      9999 non-null   float32\n",
            " 22  22      9999 non-null   float32\n",
            " 23  23      9999 non-null   float32\n",
            " 24  24      9999 non-null   float32\n",
            " 25  25      9999 non-null   float32\n",
            " 26  26      9999 non-null   float32\n",
            " 27  27      9999 non-null   float32\n",
            " 28  28      9999 non-null   float32\n",
            " 29  29      9999 non-null   float32\n",
            " 30  30      9999 non-null   float32\n",
            " 31  31      9999 non-null   float32\n",
            " 32  32      9999 non-null   float32\n",
            " 33  33      9999 non-null   float32\n",
            " 34  34      9999 non-null   float32\n",
            " 35  35      9999 non-null   float32\n",
            " 36  36      9999 non-null   float32\n",
            " 37  37      9999 non-null   float32\n",
            " 38  38      9999 non-null   float32\n",
            " 39  39      9999 non-null   float32\n",
            " 40  40      9999 non-null   float32\n",
            " 41  41      9999 non-null   float32\n",
            " 42  42      9999 non-null   float32\n",
            " 43  43      9999 non-null   float32\n",
            " 44  44      9999 non-null   float32\n",
            " 45  45      9999 non-null   float32\n",
            " 46  46      9999 non-null   float32\n",
            " 47  47      9999 non-null   float32\n",
            " 48  48      9999 non-null   float32\n",
            " 49  49      9999 non-null   float32\n",
            " 50  50      9999 non-null   float32\n",
            " 51  51      9999 non-null   float32\n",
            " 52  52      9999 non-null   float32\n",
            " 53  53      9999 non-null   float32\n",
            " 54  54      9999 non-null   float32\n",
            " 55  55      9999 non-null   float32\n",
            " 56  56      9999 non-null   float32\n",
            " 57  57      9999 non-null   float32\n",
            " 58  58      9999 non-null   float32\n",
            " 59  59      9999 non-null   float32\n",
            " 60  60      9999 non-null   float32\n",
            " 61  61      9999 non-null   float32\n",
            " 62  62      9999 non-null   float32\n",
            " 63  63      9999 non-null   float32\n",
            " 64  64      9999 non-null   float32\n",
            " 65  65      9999 non-null   float32\n",
            " 66  66      9999 non-null   float32\n",
            " 67  67      9999 non-null   float32\n",
            " 68  68      9999 non-null   float32\n",
            " 69  69      9999 non-null   float32\n",
            " 70  70      9999 non-null   float32\n",
            " 71  71      9999 non-null   float32\n",
            " 72  target  9999 non-null   object \n",
            "dtypes: float32(72), object(1)\n",
            "memory usage: 2.9+ MB\n"
          ]
        },
        {
          "data": {
            "text/plain": [
              "None"
            ]
          },
          "metadata": {},
          "output_type": "display_data"
        },
        {
          "name": "stdout",
          "output_type": "stream",
          "text": [
            "----------------------------------------------------------------------------------------------------\n",
            "Описательная статистика:\n",
            "\n"
          ]
        },
        {
          "data": {
            "text/html": [
              "<div>\n",
              "<style scoped>\n",
              "    .dataframe tbody tr th:only-of-type {\n",
              "        vertical-align: middle;\n",
              "    }\n",
              "\n",
              "    .dataframe tbody tr th {\n",
              "        vertical-align: top;\n",
              "    }\n",
              "\n",
              "    .dataframe thead th {\n",
              "        text-align: right;\n",
              "    }\n",
              "</style>\n",
              "<table border=\"1\" class=\"dataframe\">\n",
              "  <thead>\n",
              "    <tr style=\"text-align: right;\">\n",
              "      <th></th>\n",
              "      <th>0</th>\n",
              "      <th>1</th>\n",
              "      <th>2</th>\n",
              "      <th>3</th>\n",
              "      <th>4</th>\n",
              "      <th>5</th>\n",
              "      <th>6</th>\n",
              "      <th>7</th>\n",
              "      <th>8</th>\n",
              "      <th>9</th>\n",
              "      <th>...</th>\n",
              "      <th>62</th>\n",
              "      <th>63</th>\n",
              "      <th>64</th>\n",
              "      <th>65</th>\n",
              "      <th>66</th>\n",
              "      <th>67</th>\n",
              "      <th>68</th>\n",
              "      <th>69</th>\n",
              "      <th>70</th>\n",
              "      <th>71</th>\n",
              "    </tr>\n",
              "  </thead>\n",
              "  <tbody>\n",
              "    <tr>\n",
              "      <th>count</th>\n",
              "      <td>9999.000000</td>\n",
              "      <td>9999.000000</td>\n",
              "      <td>9999.000000</td>\n",
              "      <td>9999.000000</td>\n",
              "      <td>9999.000000</td>\n",
              "      <td>9999.000000</td>\n",
              "      <td>9999.000000</td>\n",
              "      <td>9999.000000</td>\n",
              "      <td>9999.000000</td>\n",
              "      <td>9999.000000</td>\n",
              "      <td>...</td>\n",
              "      <td>9999.000000</td>\n",
              "      <td>9999.000000</td>\n",
              "      <td>9999.000000</td>\n",
              "      <td>9999.000000</td>\n",
              "      <td>9999.000000</td>\n",
              "      <td>9999.000000</td>\n",
              "      <td>9999.000000</td>\n",
              "      <td>9999.000000</td>\n",
              "      <td>9999.000000</td>\n",
              "      <td>9999.000000</td>\n",
              "    </tr>\n",
              "    <tr>\n",
              "      <th>mean</th>\n",
              "      <td>-85.469574</td>\n",
              "      <td>7.608016</td>\n",
              "      <td>-43.886494</td>\n",
              "      <td>-146.204147</td>\n",
              "      <td>111.979584</td>\n",
              "      <td>-73.679420</td>\n",
              "      <td>-443.890747</td>\n",
              "      <td>21.820551</td>\n",
              "      <td>123.107399</td>\n",
              "      <td>126.418045</td>\n",
              "      <td>...</td>\n",
              "      <td>-81.373940</td>\n",
              "      <td>37.137379</td>\n",
              "      <td>-152.473801</td>\n",
              "      <td>16.533798</td>\n",
              "      <td>67.803513</td>\n",
              "      <td>23.750004</td>\n",
              "      <td>73.254974</td>\n",
              "      <td>115.410515</td>\n",
              "      <td>-708.824829</td>\n",
              "      <td>-48.325314</td>\n",
              "    </tr>\n",
              "    <tr>\n",
              "      <th>std</th>\n",
              "      <td>25.986217</td>\n",
              "      <td>4.985728</td>\n",
              "      <td>39.318615</td>\n",
              "      <td>20.309633</td>\n",
              "      <td>47.599873</td>\n",
              "      <td>28.743811</td>\n",
              "      <td>281.494324</td>\n",
              "      <td>66.450439</td>\n",
              "      <td>6.418815</td>\n",
              "      <td>64.858192</td>\n",
              "      <td>...</td>\n",
              "      <td>30.628553</td>\n",
              "      <td>25.391546</td>\n",
              "      <td>41.109707</td>\n",
              "      <td>98.956200</td>\n",
              "      <td>1.875664</td>\n",
              "      <td>54.838215</td>\n",
              "      <td>61.459194</td>\n",
              "      <td>21.641422</td>\n",
              "      <td>405.686493</td>\n",
              "      <td>40.899658</td>\n",
              "    </tr>\n",
              "    <tr>\n",
              "      <th>min</th>\n",
              "      <td>-173.032562</td>\n",
              "      <td>-11.560507</td>\n",
              "      <td>-187.292633</td>\n",
              "      <td>-219.724792</td>\n",
              "      <td>-71.243347</td>\n",
              "      <td>-184.962448</td>\n",
              "      <td>-791.443909</td>\n",
              "      <td>-250.681335</td>\n",
              "      <td>99.001770</td>\n",
              "      <td>-113.104599</td>\n",
              "      <td>...</td>\n",
              "      <td>-191.308228</td>\n",
              "      <td>-60.515068</td>\n",
              "      <td>-306.837646</td>\n",
              "      <td>-157.579208</td>\n",
              "      <td>61.339855</td>\n",
              "      <td>-165.361252</td>\n",
              "      <td>-127.017555</td>\n",
              "      <td>34.696030</td>\n",
              "      <td>-1297.871948</td>\n",
              "      <td>-208.276810</td>\n",
              "    </tr>\n",
              "    <tr>\n",
              "      <th>25%</th>\n",
              "      <td>-103.445763</td>\n",
              "      <td>4.178606</td>\n",
              "      <td>-69.990780</td>\n",
              "      <td>-160.032883</td>\n",
              "      <td>79.712387</td>\n",
              "      <td>-93.620304</td>\n",
              "      <td>-757.628754</td>\n",
              "      <td>-21.344349</td>\n",
              "      <td>118.787720</td>\n",
              "      <td>81.959694</td>\n",
              "      <td>...</td>\n",
              "      <td>-101.775513</td>\n",
              "      <td>20.369431</td>\n",
              "      <td>-179.337379</td>\n",
              "      <td>-67.498386</td>\n",
              "      <td>66.534668</td>\n",
              "      <td>-12.360923</td>\n",
              "      <td>32.034006</td>\n",
              "      <td>100.510067</td>\n",
              "      <td>-1074.464844</td>\n",
              "      <td>-75.271168</td>\n",
              "    </tr>\n",
              "    <tr>\n",
              "      <th>50%</th>\n",
              "      <td>-85.177101</td>\n",
              "      <td>7.592032</td>\n",
              "      <td>-43.009907</td>\n",
              "      <td>-146.576218</td>\n",
              "      <td>112.233475</td>\n",
              "      <td>-74.031082</td>\n",
              "      <td>-517.673340</td>\n",
              "      <td>22.233669</td>\n",
              "      <td>123.002785</td>\n",
              "      <td>126.280350</td>\n",
              "      <td>...</td>\n",
              "      <td>-81.767227</td>\n",
              "      <td>36.944336</td>\n",
              "      <td>-151.394592</td>\n",
              "      <td>16.007952</td>\n",
              "      <td>67.819710</td>\n",
              "      <td>24.146404</td>\n",
              "      <td>73.178337</td>\n",
              "      <td>115.813057</td>\n",
              "      <td>-800.296692</td>\n",
              "      <td>-49.027412</td>\n",
              "    </tr>\n",
              "    <tr>\n",
              "      <th>75%</th>\n",
              "      <td>-67.437847</td>\n",
              "      <td>10.989735</td>\n",
              "      <td>-17.223701</td>\n",
              "      <td>-132.675850</td>\n",
              "      <td>144.052643</td>\n",
              "      <td>-54.168715</td>\n",
              "      <td>-203.437622</td>\n",
              "      <td>66.437386</td>\n",
              "      <td>127.499310</td>\n",
              "      <td>169.959885</td>\n",
              "      <td>...</td>\n",
              "      <td>-60.619156</td>\n",
              "      <td>53.901958</td>\n",
              "      <td>-124.285236</td>\n",
              "      <td>101.773979</td>\n",
              "      <td>69.086704</td>\n",
              "      <td>59.301756</td>\n",
              "      <td>113.039341</td>\n",
              "      <td>130.225601</td>\n",
              "      <td>-362.486816</td>\n",
              "      <td>-21.845187</td>\n",
              "    </tr>\n",
              "    <tr>\n",
              "      <th>max</th>\n",
              "      <td>5.052292</td>\n",
              "      <td>26.741890</td>\n",
              "      <td>134.859802</td>\n",
              "      <td>-71.194679</td>\n",
              "      <td>297.368622</td>\n",
              "      <td>31.378914</td>\n",
              "      <td>109.632034</td>\n",
              "      <td>261.413422</td>\n",
              "      <td>145.178467</td>\n",
              "      <td>353.214966</td>\n",
              "      <td>...</td>\n",
              "      <td>20.978668</td>\n",
              "      <td>137.559204</td>\n",
              "      <td>-18.955208</td>\n",
              "      <td>185.055847</td>\n",
              "      <td>74.121605</td>\n",
              "      <td>236.385468</td>\n",
              "      <td>304.391785</td>\n",
              "      <td>187.621399</td>\n",
              "      <td>97.787796</td>\n",
              "      <td>111.831955</td>\n",
              "    </tr>\n",
              "  </tbody>\n",
              "</table>\n",
              "<p>8 rows × 72 columns</p>\n",
              "</div>"
            ],
            "text/plain": [
              "                 0            1            2            3            4  \\\n",
              "count  9999.000000  9999.000000  9999.000000  9999.000000  9999.000000   \n",
              "mean    -85.469574     7.608016   -43.886494  -146.204147   111.979584   \n",
              "std      25.986217     4.985728    39.318615    20.309633    47.599873   \n",
              "min    -173.032562   -11.560507  -187.292633  -219.724792   -71.243347   \n",
              "25%    -103.445763     4.178606   -69.990780  -160.032883    79.712387   \n",
              "50%     -85.177101     7.592032   -43.009907  -146.576218   112.233475   \n",
              "75%     -67.437847    10.989735   -17.223701  -132.675850   144.052643   \n",
              "max       5.052292    26.741890   134.859802   -71.194679   297.368622   \n",
              "\n",
              "                 5            6            7            8            9  ...  \\\n",
              "count  9999.000000  9999.000000  9999.000000  9999.000000  9999.000000  ...   \n",
              "mean    -73.679420  -443.890747    21.820551   123.107399   126.418045  ...   \n",
              "std      28.743811   281.494324    66.450439     6.418815    64.858192  ...   \n",
              "min    -184.962448  -791.443909  -250.681335    99.001770  -113.104599  ...   \n",
              "25%     -93.620304  -757.628754   -21.344349   118.787720    81.959694  ...   \n",
              "50%     -74.031082  -517.673340    22.233669   123.002785   126.280350  ...   \n",
              "75%     -54.168715  -203.437622    66.437386   127.499310   169.959885  ...   \n",
              "max      31.378914   109.632034   261.413422   145.178467   353.214966  ...   \n",
              "\n",
              "                62           63           64           65           66  \\\n",
              "count  9999.000000  9999.000000  9999.000000  9999.000000  9999.000000   \n",
              "mean    -81.373940    37.137379  -152.473801    16.533798    67.803513   \n",
              "std      30.628553    25.391546    41.109707    98.956200     1.875664   \n",
              "min    -191.308228   -60.515068  -306.837646  -157.579208    61.339855   \n",
              "25%    -101.775513    20.369431  -179.337379   -67.498386    66.534668   \n",
              "50%     -81.767227    36.944336  -151.394592    16.007952    67.819710   \n",
              "75%     -60.619156    53.901958  -124.285236   101.773979    69.086704   \n",
              "max      20.978668   137.559204   -18.955208   185.055847    74.121605   \n",
              "\n",
              "                67           68           69           70           71  \n",
              "count  9999.000000  9999.000000  9999.000000  9999.000000  9999.000000  \n",
              "mean     23.750004    73.254974   115.410515  -708.824829   -48.325314  \n",
              "std      54.838215    61.459194    21.641422   405.686493    40.899658  \n",
              "min    -165.361252  -127.017555    34.696030 -1297.871948  -208.276810  \n",
              "25%     -12.360923    32.034006   100.510067 -1074.464844   -75.271168  \n",
              "50%      24.146404    73.178337   115.813057  -800.296692   -49.027412  \n",
              "75%      59.301756   113.039341   130.225601  -362.486816   -21.845187  \n",
              "max     236.385468   304.391785   187.621399    97.787796   111.831955  \n",
              "\n",
              "[8 rows x 72 columns]"
            ]
          },
          "metadata": {},
          "output_type": "display_data"
        },
        {
          "name": "stdout",
          "output_type": "stream",
          "text": [
            "----------------------------------------------------------------------------------------------------\n",
            "Проверка на наличие пропусков:\n",
            "\n",
            "0\n",
            "----------------------------------------------------------------------------------------------------\n",
            "Проверка на наличие явных дубликатов:\n",
            "\n"
          ]
        },
        {
          "data": {
            "text/plain": [
              "243"
            ]
          },
          "metadata": {},
          "output_type": "display_data"
        },
        {
          "name": "stdout",
          "output_type": "stream",
          "text": [
            "----------------------------------------------------------------------------------------------------\n",
            "Вывод количества уникальных значений:\n",
            "\n"
          ]
        },
        {
          "data": {
            "text/html": [
              "<div>\n",
              "<style scoped>\n",
              "    .dataframe tbody tr th:only-of-type {\n",
              "        vertical-align: middle;\n",
              "    }\n",
              "\n",
              "    .dataframe tbody tr th {\n",
              "        vertical-align: top;\n",
              "    }\n",
              "\n",
              "    .dataframe thead th {\n",
              "        text-align: right;\n",
              "    }\n",
              "</style>\n",
              "<table border=\"1\" class=\"dataframe\">\n",
              "  <thead>\n",
              "    <tr style=\"text-align: right;\">\n",
              "      <th></th>\n",
              "      <th>0</th>\n",
              "    </tr>\n",
              "  </thead>\n",
              "  <tbody>\n",
              "    <tr>\n",
              "      <th>0</th>\n",
              "      <td>9688</td>\n",
              "    </tr>\n",
              "    <tr>\n",
              "      <th>1</th>\n",
              "      <td>9690</td>\n",
              "    </tr>\n",
              "    <tr>\n",
              "      <th>2</th>\n",
              "      <td>9689</td>\n",
              "    </tr>\n",
              "    <tr>\n",
              "      <th>3</th>\n",
              "      <td>9677</td>\n",
              "    </tr>\n",
              "    <tr>\n",
              "      <th>4</th>\n",
              "      <td>9690</td>\n",
              "    </tr>\n",
              "    <tr>\n",
              "      <th>...</th>\n",
              "      <td>...</td>\n",
              "    </tr>\n",
              "    <tr>\n",
              "      <th>68</th>\n",
              "      <td>9690</td>\n",
              "    </tr>\n",
              "    <tr>\n",
              "      <th>69</th>\n",
              "      <td>9687</td>\n",
              "    </tr>\n",
              "    <tr>\n",
              "      <th>70</th>\n",
              "      <td>7488</td>\n",
              "    </tr>\n",
              "    <tr>\n",
              "      <th>71</th>\n",
              "      <td>9690</td>\n",
              "    </tr>\n",
              "    <tr>\n",
              "      <th>target</th>\n",
              "      <td>9672</td>\n",
              "    </tr>\n",
              "  </tbody>\n",
              "</table>\n",
              "<p>73 rows × 1 columns</p>\n",
              "</div>"
            ],
            "text/plain": [
              "           0\n",
              "0       9688\n",
              "1       9690\n",
              "2       9689\n",
              "3       9677\n",
              "4       9690\n",
              "...      ...\n",
              "68      9690\n",
              "69      9687\n",
              "70      7488\n",
              "71      9690\n",
              "target  9672\n",
              "\n",
              "[73 rows x 1 columns]"
            ]
          },
          "metadata": {},
          "output_type": "display_data"
        }
      ],
      "source": [
        "preprocessing(df_train)"
      ]
    },
    {
      "cell_type": "code",
      "execution_count": 11,
      "metadata": {
        "id": "l3KBiw1ItN52"
      },
      "outputs": [],
      "source": [
        "# df_train.hist(figsize=(25, 25));"
      ]
    },
    {
      "cell_type": "code",
      "execution_count": 12,
      "metadata": {
        "id": "6DzRVw58tN3T"
      },
      "outputs": [],
      "source": [
        "# plot_qq_grids(df_train)"
      ]
    },
    {
      "cell_type": "markdown",
      "metadata": {
        "id": "TwXKU5tZtscN"
      },
      "source": [
        "**Вывод**\n",
        "В результате анализа датасета с 73 колонками и 999 999 строками были получены следующие ключевые моменты:\n",
        "\n",
        "- Дубликаты: Обнаружено 243 дубликатов. Рекомендуется провести их удаление для повышения качества анализа и моделирования.\n",
        "- Пропуски: Пропуски отсутствуют, что позволяет использовать все доступные данные для дальнейшего анализа.\n",
        "- Типы данных: Все значения числовые и успешно приведены к формату float32, что оптимизирует использование памяти. Есть не числовой столбец tsrget содержащий наш целевой признак\n",
        "- Названия признаков: Признаки без имен, пронумерованные по порядку. Вероятно, данные закодированы, что следует учитывать при интерпретации результатов.\n",
        "- Стандартизация: Разнообразие диапазонов значений признаков требует стандартизации для улучшения производительности моделей.\n",
        "- Распределение значений: Большинство признаков имеют распределение, близкое к нормальному. Однако признаки с номерами 6, 21, 25, 33, 44, 59, 65 и 70 имеют отклонения. (как и в общей базе) Рекомендуется рассмотреть возможность их удаления, поскольку недостаток понимания их значимости может усложнить процесс моделирования.\n",
        "\n",
        "\n"
      ]
    },
    {
      "cell_type": "markdown",
      "metadata": {
        "id": "BH1_TJfEt-dw"
      },
      "source": [
        "## Посмотрим на df_validation"
      ]
    },
    {
      "cell_type": "code",
      "execution_count": 13,
      "metadata": {
        "colab": {
          "base_uri": "https://localhost:8080/",
          "height": 1000
        },
        "id": "L-rczs10tNyF",
        "outputId": "4f3eb293-4e80-4695-cc28-a8f17862b89c"
      },
      "outputs": [
        {
          "name": "stdout",
          "output_type": "stream",
          "text": [
            "Изучение данных датафрейма\n",
            "Вывод первых 5 строк \n",
            "\n"
          ]
        },
        {
          "data": {
            "text/html": [
              "<div>\n",
              "<style scoped>\n",
              "    .dataframe tbody tr th:only-of-type {\n",
              "        vertical-align: middle;\n",
              "    }\n",
              "\n",
              "    .dataframe tbody tr th {\n",
              "        vertical-align: top;\n",
              "    }\n",
              "\n",
              "    .dataframe thead th {\n",
              "        text-align: right;\n",
              "    }\n",
              "</style>\n",
              "<table border=\"1\" class=\"dataframe\">\n",
              "  <thead>\n",
              "    <tr style=\"text-align: right;\">\n",
              "      <th></th>\n",
              "      <th>0</th>\n",
              "      <th>1</th>\n",
              "      <th>2</th>\n",
              "      <th>3</th>\n",
              "      <th>4</th>\n",
              "      <th>5</th>\n",
              "      <th>6</th>\n",
              "      <th>7</th>\n",
              "      <th>8</th>\n",
              "      <th>9</th>\n",
              "      <th>...</th>\n",
              "      <th>62</th>\n",
              "      <th>63</th>\n",
              "      <th>64</th>\n",
              "      <th>65</th>\n",
              "      <th>66</th>\n",
              "      <th>67</th>\n",
              "      <th>68</th>\n",
              "      <th>69</th>\n",
              "      <th>70</th>\n",
              "      <th>71</th>\n",
              "    </tr>\n",
              "    <tr>\n",
              "      <th>Id</th>\n",
              "      <th></th>\n",
              "      <th></th>\n",
              "      <th></th>\n",
              "      <th></th>\n",
              "      <th></th>\n",
              "      <th></th>\n",
              "      <th></th>\n",
              "      <th></th>\n",
              "      <th></th>\n",
              "      <th></th>\n",
              "      <th></th>\n",
              "      <th></th>\n",
              "      <th></th>\n",
              "      <th></th>\n",
              "      <th></th>\n",
              "      <th></th>\n",
              "      <th></th>\n",
              "      <th></th>\n",
              "      <th></th>\n",
              "      <th></th>\n",
              "      <th></th>\n",
              "    </tr>\n",
              "  </thead>\n",
              "  <tbody>\n",
              "    <tr>\n",
              "      <th>196680-query</th>\n",
              "      <td>-59.383419</td>\n",
              "      <td>8.563437</td>\n",
              "      <td>-28.203072</td>\n",
              "      <td>-134.225342</td>\n",
              "      <td>82.736610</td>\n",
              "      <td>-150.572174</td>\n",
              "      <td>-129.178970</td>\n",
              "      <td>23.670555</td>\n",
              "      <td>125.666359</td>\n",
              "      <td>108.809586</td>\n",
              "      <td>...</td>\n",
              "      <td>-103.481628</td>\n",
              "      <td>79.564529</td>\n",
              "      <td>-120.313568</td>\n",
              "      <td>54.218155</td>\n",
              "      <td>68.500732</td>\n",
              "      <td>32.681908</td>\n",
              "      <td>84.196861</td>\n",
              "      <td>136.412964</td>\n",
              "      <td>-1074.464844</td>\n",
              "      <td>-21.233612</td>\n",
              "    </tr>\n",
              "    <tr>\n",
              "      <th>134615-query</th>\n",
              "      <td>-103.912148</td>\n",
              "      <td>9.742726</td>\n",
              "      <td>-15.209915</td>\n",
              "      <td>-116.373100</td>\n",
              "      <td>137.698807</td>\n",
              "      <td>-85.530075</td>\n",
              "      <td>-776.123169</td>\n",
              "      <td>44.481529</td>\n",
              "      <td>114.671211</td>\n",
              "      <td>95.231293</td>\n",
              "      <td>...</td>\n",
              "      <td>-51.193771</td>\n",
              "      <td>49.299644</td>\n",
              "      <td>-101.894539</td>\n",
              "      <td>105.560547</td>\n",
              "      <td>67.801041</td>\n",
              "      <td>13.633057</td>\n",
              "      <td>108.051376</td>\n",
              "      <td>111.864456</td>\n",
              "      <td>-841.022339</td>\n",
              "      <td>-76.567978</td>\n",
              "    </tr>\n",
              "    <tr>\n",
              "      <th>82675-query</th>\n",
              "      <td>-117.923279</td>\n",
              "      <td>-3.504554</td>\n",
              "      <td>-64.299393</td>\n",
              "      <td>-155.187134</td>\n",
              "      <td>156.821365</td>\n",
              "      <td>-34.082264</td>\n",
              "      <td>-537.423645</td>\n",
              "      <td>54.078613</td>\n",
              "      <td>121.973961</td>\n",
              "      <td>59.321335</td>\n",
              "      <td>...</td>\n",
              "      <td>-115.176155</td>\n",
              "      <td>48.636131</td>\n",
              "      <td>-132.179672</td>\n",
              "      <td>-0.988696</td>\n",
              "      <td>68.111252</td>\n",
              "      <td>107.065216</td>\n",
              "      <td>134.617645</td>\n",
              "      <td>134.080002</td>\n",
              "      <td>27.773270</td>\n",
              "      <td>-32.401714</td>\n",
              "    </tr>\n",
              "    <tr>\n",
              "      <th>162076-query</th>\n",
              "      <td>-90.880554</td>\n",
              "      <td>4.888542</td>\n",
              "      <td>-39.647797</td>\n",
              "      <td>-131.750107</td>\n",
              "      <td>62.362122</td>\n",
              "      <td>-105.593269</td>\n",
              "      <td>-347.132507</td>\n",
              "      <td>-83.351753</td>\n",
              "      <td>133.913315</td>\n",
              "      <td>201.146088</td>\n",
              "      <td>...</td>\n",
              "      <td>-112.293793</td>\n",
              "      <td>54.884007</td>\n",
              "      <td>-177.569351</td>\n",
              "      <td>-116.375000</td>\n",
              "      <td>67.887657</td>\n",
              "      <td>136.893982</td>\n",
              "      <td>124.894470</td>\n",
              "      <td>117.707748</td>\n",
              "      <td>-566.343994</td>\n",
              "      <td>-90.905556</td>\n",
              "    </tr>\n",
              "    <tr>\n",
              "      <th>23069-query</th>\n",
              "      <td>-66.946739</td>\n",
              "      <td>10.562773</td>\n",
              "      <td>-73.781830</td>\n",
              "      <td>-149.397873</td>\n",
              "      <td>2.938660</td>\n",
              "      <td>-51.288853</td>\n",
              "      <td>-587.189331</td>\n",
              "      <td>-2.764402</td>\n",
              "      <td>126.561050</td>\n",
              "      <td>131.900620</td>\n",
              "      <td>...</td>\n",
              "      <td>-116.440605</td>\n",
              "      <td>47.279976</td>\n",
              "      <td>-162.654007</td>\n",
              "      <td>107.409409</td>\n",
              "      <td>67.785263</td>\n",
              "      <td>-60.976490</td>\n",
              "      <td>142.685715</td>\n",
              "      <td>82.264297</td>\n",
              "      <td>-345.340454</td>\n",
              "      <td>-48.572525</td>\n",
              "    </tr>\n",
              "  </tbody>\n",
              "</table>\n",
              "<p>5 rows × 72 columns</p>\n",
              "</div>"
            ],
            "text/plain": [
              "                       0          1          2           3           4  \\\n",
              "Id                                                                       \n",
              "196680-query  -59.383419   8.563437 -28.203072 -134.225342   82.736610   \n",
              "134615-query -103.912148   9.742726 -15.209915 -116.373100  137.698807   \n",
              "82675-query  -117.923279  -3.504554 -64.299393 -155.187134  156.821365   \n",
              "162076-query  -90.880554   4.888542 -39.647797 -131.750107   62.362122   \n",
              "23069-query   -66.946739  10.562773 -73.781830 -149.397873    2.938660   \n",
              "\n",
              "                       5           6          7           8           9  ...  \\\n",
              "Id                                                                       ...   \n",
              "196680-query -150.572174 -129.178970  23.670555  125.666359  108.809586  ...   \n",
              "134615-query  -85.530075 -776.123169  44.481529  114.671211   95.231293  ...   \n",
              "82675-query   -34.082264 -537.423645  54.078613  121.973961   59.321335  ...   \n",
              "162076-query -105.593269 -347.132507 -83.351753  133.913315  201.146088  ...   \n",
              "23069-query   -51.288853 -587.189331  -2.764402  126.561050  131.900620  ...   \n",
              "\n",
              "                      62         63          64          65         66  \\\n",
              "Id                                                                       \n",
              "196680-query -103.481628  79.564529 -120.313568   54.218155  68.500732   \n",
              "134615-query  -51.193771  49.299644 -101.894539  105.560547  67.801041   \n",
              "82675-query  -115.176155  48.636131 -132.179672   -0.988696  68.111252   \n",
              "162076-query -112.293793  54.884007 -177.569351 -116.375000  67.887657   \n",
              "23069-query  -116.440605  47.279976 -162.654007  107.409409  67.785263   \n",
              "\n",
              "                      67          68          69           70         71  \n",
              "Id                                                                        \n",
              "196680-query   32.681908   84.196861  136.412964 -1074.464844 -21.233612  \n",
              "134615-query   13.633057  108.051376  111.864456  -841.022339 -76.567978  \n",
              "82675-query   107.065216  134.617645  134.080002    27.773270 -32.401714  \n",
              "162076-query  136.893982  124.894470  117.707748  -566.343994 -90.905556  \n",
              "23069-query   -60.976490  142.685715   82.264297  -345.340454 -48.572525  \n",
              "\n",
              "[5 rows x 72 columns]"
            ]
          },
          "metadata": {},
          "output_type": "display_data"
        },
        {
          "name": "stdout",
          "output_type": "stream",
          "text": [
            "----------------------------------------------------------------------------------------------------\n",
            "Размерность датафрейма составляет - (10000, 72)\n",
            "----------------------------------------------------------------------------------------------------\n",
            "Общая информация:\n",
            "\n",
            "<class 'pandas.core.frame.DataFrame'>\n",
            "Index: 10000 entries, 196680-query to 43566-query\n",
            "Data columns (total 72 columns):\n",
            " #   Column  Non-Null Count  Dtype  \n",
            "---  ------  --------------  -----  \n",
            " 0   0       10000 non-null  float32\n",
            " 1   1       10000 non-null  float32\n",
            " 2   2       10000 non-null  float32\n",
            " 3   3       10000 non-null  float32\n",
            " 4   4       10000 non-null  float32\n",
            " 5   5       10000 non-null  float32\n",
            " 6   6       10000 non-null  float32\n",
            " 7   7       10000 non-null  float32\n",
            " 8   8       10000 non-null  float32\n",
            " 9   9       10000 non-null  float32\n",
            " 10  10      10000 non-null  float32\n",
            " 11  11      10000 non-null  float32\n",
            " 12  12      10000 non-null  float32\n",
            " 13  13      10000 non-null  float32\n",
            " 14  14      10000 non-null  float32\n",
            " 15  15      10000 non-null  float32\n",
            " 16  16      10000 non-null  float32\n",
            " 17  17      10000 non-null  float32\n",
            " 18  18      10000 non-null  float32\n",
            " 19  19      10000 non-null  float32\n",
            " 20  20      10000 non-null  float32\n",
            " 21  21      10000 non-null  float32\n",
            " 22  22      10000 non-null  float32\n",
            " 23  23      10000 non-null  float32\n",
            " 24  24      10000 non-null  float32\n",
            " 25  25      10000 non-null  float32\n",
            " 26  26      10000 non-null  float32\n",
            " 27  27      10000 non-null  float32\n",
            " 28  28      10000 non-null  float32\n",
            " 29  29      10000 non-null  float32\n",
            " 30  30      10000 non-null  float32\n",
            " 31  31      10000 non-null  float32\n",
            " 32  32      10000 non-null  float32\n",
            " 33  33      10000 non-null  float32\n",
            " 34  34      10000 non-null  float32\n",
            " 35  35      10000 non-null  float32\n",
            " 36  36      10000 non-null  float32\n",
            " 37  37      10000 non-null  float32\n",
            " 38  38      10000 non-null  float32\n",
            " 39  39      10000 non-null  float32\n",
            " 40  40      10000 non-null  float32\n",
            " 41  41      10000 non-null  float32\n",
            " 42  42      10000 non-null  float32\n",
            " 43  43      10000 non-null  float32\n",
            " 44  44      10000 non-null  float32\n",
            " 45  45      10000 non-null  float32\n",
            " 46  46      10000 non-null  float32\n",
            " 47  47      10000 non-null  float32\n",
            " 48  48      10000 non-null  float32\n",
            " 49  49      10000 non-null  float32\n",
            " 50  50      10000 non-null  float32\n",
            " 51  51      10000 non-null  float32\n",
            " 52  52      10000 non-null  float32\n",
            " 53  53      10000 non-null  float32\n",
            " 54  54      10000 non-null  float32\n",
            " 55  55      10000 non-null  float32\n",
            " 56  56      10000 non-null  float32\n",
            " 57  57      10000 non-null  float32\n",
            " 58  58      10000 non-null  float32\n",
            " 59  59      10000 non-null  float32\n",
            " 60  60      10000 non-null  float32\n",
            " 61  61      10000 non-null  float32\n",
            " 62  62      10000 non-null  float32\n",
            " 63  63      10000 non-null  float32\n",
            " 64  64      10000 non-null  float32\n",
            " 65  65      10000 non-null  float32\n",
            " 66  66      10000 non-null  float32\n",
            " 67  67      10000 non-null  float32\n",
            " 68  68      10000 non-null  float32\n",
            " 69  69      10000 non-null  float32\n",
            " 70  70      10000 non-null  float32\n",
            " 71  71      10000 non-null  float32\n",
            "dtypes: float32(72)\n",
            "memory usage: 2.8+ MB\n"
          ]
        },
        {
          "data": {
            "text/plain": [
              "None"
            ]
          },
          "metadata": {},
          "output_type": "display_data"
        },
        {
          "name": "stdout",
          "output_type": "stream",
          "text": [
            "----------------------------------------------------------------------------------------------------\n",
            "Описательная статистика:\n",
            "\n"
          ]
        },
        {
          "data": {
            "text/html": [
              "<div>\n",
              "<style scoped>\n",
              "    .dataframe tbody tr th:only-of-type {\n",
              "        vertical-align: middle;\n",
              "    }\n",
              "\n",
              "    .dataframe tbody tr th {\n",
              "        vertical-align: top;\n",
              "    }\n",
              "\n",
              "    .dataframe thead th {\n",
              "        text-align: right;\n",
              "    }\n",
              "</style>\n",
              "<table border=\"1\" class=\"dataframe\">\n",
              "  <thead>\n",
              "    <tr style=\"text-align: right;\">\n",
              "      <th></th>\n",
              "      <th>0</th>\n",
              "      <th>1</th>\n",
              "      <th>2</th>\n",
              "      <th>3</th>\n",
              "      <th>4</th>\n",
              "      <th>5</th>\n",
              "      <th>6</th>\n",
              "      <th>7</th>\n",
              "      <th>8</th>\n",
              "      <th>9</th>\n",
              "      <th>...</th>\n",
              "      <th>62</th>\n",
              "      <th>63</th>\n",
              "      <th>64</th>\n",
              "      <th>65</th>\n",
              "      <th>66</th>\n",
              "      <th>67</th>\n",
              "      <th>68</th>\n",
              "      <th>69</th>\n",
              "      <th>70</th>\n",
              "      <th>71</th>\n",
              "    </tr>\n",
              "  </thead>\n",
              "  <tbody>\n",
              "    <tr>\n",
              "      <th>count</th>\n",
              "      <td>10000.000000</td>\n",
              "      <td>10000.000000</td>\n",
              "      <td>10000.000000</td>\n",
              "      <td>10000.000000</td>\n",
              "      <td>10000.000000</td>\n",
              "      <td>10000.000000</td>\n",
              "      <td>10000.000000</td>\n",
              "      <td>10000.000000</td>\n",
              "      <td>10000.000000</td>\n",
              "      <td>10000.000000</td>\n",
              "      <td>...</td>\n",
              "      <td>10000.000000</td>\n",
              "      <td>10000.000000</td>\n",
              "      <td>10000.000000</td>\n",
              "      <td>10000.000000</td>\n",
              "      <td>10000.000000</td>\n",
              "      <td>10000.000000</td>\n",
              "      <td>10000.000000</td>\n",
              "      <td>10000.000000</td>\n",
              "      <td>10000.000000</td>\n",
              "      <td>10000.000000</td>\n",
              "    </tr>\n",
              "    <tr>\n",
              "      <th>mean</th>\n",
              "      <td>-85.307365</td>\n",
              "      <td>7.633750</td>\n",
              "      <td>-43.686535</td>\n",
              "      <td>-146.038788</td>\n",
              "      <td>111.209938</td>\n",
              "      <td>-72.767937</td>\n",
              "      <td>-440.587158</td>\n",
              "      <td>21.834860</td>\n",
              "      <td>123.051773</td>\n",
              "      <td>124.662560</td>\n",
              "      <td>...</td>\n",
              "      <td>-81.250175</td>\n",
              "      <td>36.956902</td>\n",
              "      <td>-152.122726</td>\n",
              "      <td>14.886141</td>\n",
              "      <td>67.791824</td>\n",
              "      <td>22.857615</td>\n",
              "      <td>72.524490</td>\n",
              "      <td>115.420799</td>\n",
              "      <td>-709.333496</td>\n",
              "      <td>-49.022259</td>\n",
              "    </tr>\n",
              "    <tr>\n",
              "      <th>std</th>\n",
              "      <td>25.911682</td>\n",
              "      <td>4.950078</td>\n",
              "      <td>38.805283</td>\n",
              "      <td>20.543489</td>\n",
              "      <td>47.779449</td>\n",
              "      <td>28.617899</td>\n",
              "      <td>278.953674</td>\n",
              "      <td>66.326515</td>\n",
              "      <td>6.522882</td>\n",
              "      <td>65.458931</td>\n",
              "      <td>...</td>\n",
              "      <td>30.617504</td>\n",
              "      <td>25.251097</td>\n",
              "      <td>40.945221</td>\n",
              "      <td>99.384247</td>\n",
              "      <td>1.851120</td>\n",
              "      <td>55.658493</td>\n",
              "      <td>62.595135</td>\n",
              "      <td>21.490728</td>\n",
              "      <td>405.917480</td>\n",
              "      <td>41.159870</td>\n",
              "    </tr>\n",
              "    <tr>\n",
              "      <th>min</th>\n",
              "      <td>-167.550674</td>\n",
              "      <td>-10.583933</td>\n",
              "      <td>-205.797363</td>\n",
              "      <td>-219.720886</td>\n",
              "      <td>-76.422760</td>\n",
              "      <td>-170.868378</td>\n",
              "      <td>-791.443909</td>\n",
              "      <td>-277.983948</td>\n",
              "      <td>97.360535</td>\n",
              "      <td>-118.700714</td>\n",
              "      <td>...</td>\n",
              "      <td>-189.231293</td>\n",
              "      <td>-47.206474</td>\n",
              "      <td>-308.200378</td>\n",
              "      <td>-157.580673</td>\n",
              "      <td>61.086391</td>\n",
              "      <td>-174.799103</td>\n",
              "      <td>-159.840729</td>\n",
              "      <td>27.746750</td>\n",
              "      <td>-1297.689575</td>\n",
              "      <td>-209.935760</td>\n",
              "    </tr>\n",
              "    <tr>\n",
              "      <th>25%</th>\n",
              "      <td>-103.253996</td>\n",
              "      <td>4.245802</td>\n",
              "      <td>-69.606606</td>\n",
              "      <td>-159.972973</td>\n",
              "      <td>78.592808</td>\n",
              "      <td>-92.371088</td>\n",
              "      <td>-739.549103</td>\n",
              "      <td>-22.112910</td>\n",
              "      <td>118.623890</td>\n",
              "      <td>81.167942</td>\n",
              "      <td>...</td>\n",
              "      <td>-101.935440</td>\n",
              "      <td>19.950575</td>\n",
              "      <td>-178.986320</td>\n",
              "      <td>-71.481628</td>\n",
              "      <td>66.545755</td>\n",
              "      <td>-14.034863</td>\n",
              "      <td>31.120447</td>\n",
              "      <td>100.431219</td>\n",
              "      <td>-1074.464844</td>\n",
              "      <td>-76.834515</td>\n",
              "    </tr>\n",
              "    <tr>\n",
              "      <th>50%</th>\n",
              "      <td>-85.495232</td>\n",
              "      <td>7.604729</td>\n",
              "      <td>-43.152172</td>\n",
              "      <td>-146.100197</td>\n",
              "      <td>111.398598</td>\n",
              "      <td>-72.734219</td>\n",
              "      <td>-512.600708</td>\n",
              "      <td>22.596903</td>\n",
              "      <td>123.105534</td>\n",
              "      <td>124.588371</td>\n",
              "      <td>...</td>\n",
              "      <td>-80.640327</td>\n",
              "      <td>36.343388</td>\n",
              "      <td>-151.159157</td>\n",
              "      <td>16.498258</td>\n",
              "      <td>67.809391</td>\n",
              "      <td>22.756214</td>\n",
              "      <td>71.640041</td>\n",
              "      <td>115.465534</td>\n",
              "      <td>-809.193115</td>\n",
              "      <td>-49.420509</td>\n",
              "    </tr>\n",
              "    <tr>\n",
              "      <th>75%</th>\n",
              "      <td>-67.228039</td>\n",
              "      <td>10.950509</td>\n",
              "      <td>-17.883776</td>\n",
              "      <td>-131.973091</td>\n",
              "      <td>143.645966</td>\n",
              "      <td>-53.415469</td>\n",
              "      <td>-204.531445</td>\n",
              "      <td>67.179239</td>\n",
              "      <td>127.583332</td>\n",
              "      <td>168.550243</td>\n",
              "      <td>...</td>\n",
              "      <td>-60.179952</td>\n",
              "      <td>53.856120</td>\n",
              "      <td>-124.446026</td>\n",
              "      <td>100.077341</td>\n",
              "      <td>69.043970</td>\n",
              "      <td>60.188394</td>\n",
              "      <td>114.197411</td>\n",
              "      <td>129.996609</td>\n",
              "      <td>-358.197334</td>\n",
              "      <td>-20.995152</td>\n",
              "    </tr>\n",
              "    <tr>\n",
              "      <th>max</th>\n",
              "      <td>10.861183</td>\n",
              "      <td>27.944784</td>\n",
              "      <td>107.040688</td>\n",
              "      <td>-73.909584</td>\n",
              "      <td>287.397186</td>\n",
              "      <td>47.001106</td>\n",
              "      <td>109.404854</td>\n",
              "      <td>251.090179</td>\n",
              "      <td>146.034409</td>\n",
              "      <td>350.088318</td>\n",
              "      <td>...</td>\n",
              "      <td>31.880241</td>\n",
              "      <td>141.025269</td>\n",
              "      <td>-17.406784</td>\n",
              "      <td>184.987274</td>\n",
              "      <td>73.886787</td>\n",
              "      <td>241.695618</td>\n",
              "      <td>289.583160</td>\n",
              "      <td>190.171417</td>\n",
              "      <td>98.747131</td>\n",
              "      <td>102.473755</td>\n",
              "    </tr>\n",
              "  </tbody>\n",
              "</table>\n",
              "<p>8 rows × 72 columns</p>\n",
              "</div>"
            ],
            "text/plain": [
              "                  0             1             2             3             4  \\\n",
              "count  10000.000000  10000.000000  10000.000000  10000.000000  10000.000000   \n",
              "mean     -85.307365      7.633750    -43.686535   -146.038788    111.209938   \n",
              "std       25.911682      4.950078     38.805283     20.543489     47.779449   \n",
              "min     -167.550674    -10.583933   -205.797363   -219.720886    -76.422760   \n",
              "25%     -103.253996      4.245802    -69.606606   -159.972973     78.592808   \n",
              "50%      -85.495232      7.604729    -43.152172   -146.100197    111.398598   \n",
              "75%      -67.228039     10.950509    -17.883776   -131.973091    143.645966   \n",
              "max       10.861183     27.944784    107.040688    -73.909584    287.397186   \n",
              "\n",
              "                  5             6             7             8             9  \\\n",
              "count  10000.000000  10000.000000  10000.000000  10000.000000  10000.000000   \n",
              "mean     -72.767937   -440.587158     21.834860    123.051773    124.662560   \n",
              "std       28.617899    278.953674     66.326515      6.522882     65.458931   \n",
              "min     -170.868378   -791.443909   -277.983948     97.360535   -118.700714   \n",
              "25%      -92.371088   -739.549103    -22.112910    118.623890     81.167942   \n",
              "50%      -72.734219   -512.600708     22.596903    123.105534    124.588371   \n",
              "75%      -53.415469   -204.531445     67.179239    127.583332    168.550243   \n",
              "max       47.001106    109.404854    251.090179    146.034409    350.088318   \n",
              "\n",
              "       ...            62            63            64            65  \\\n",
              "count  ...  10000.000000  10000.000000  10000.000000  10000.000000   \n",
              "mean   ...    -81.250175     36.956902   -152.122726     14.886141   \n",
              "std    ...     30.617504     25.251097     40.945221     99.384247   \n",
              "min    ...   -189.231293    -47.206474   -308.200378   -157.580673   \n",
              "25%    ...   -101.935440     19.950575   -178.986320    -71.481628   \n",
              "50%    ...    -80.640327     36.343388   -151.159157     16.498258   \n",
              "75%    ...    -60.179952     53.856120   -124.446026    100.077341   \n",
              "max    ...     31.880241    141.025269    -17.406784    184.987274   \n",
              "\n",
              "                 66            67            68            69            70  \\\n",
              "count  10000.000000  10000.000000  10000.000000  10000.000000  10000.000000   \n",
              "mean      67.791824     22.857615     72.524490    115.420799   -709.333496   \n",
              "std        1.851120     55.658493     62.595135     21.490728    405.917480   \n",
              "min       61.086391   -174.799103   -159.840729     27.746750  -1297.689575   \n",
              "25%       66.545755    -14.034863     31.120447    100.431219  -1074.464844   \n",
              "50%       67.809391     22.756214     71.640041    115.465534   -809.193115   \n",
              "75%       69.043970     60.188394    114.197411    129.996609   -358.197334   \n",
              "max       73.886787    241.695618    289.583160    190.171417     98.747131   \n",
              "\n",
              "                 71  \n",
              "count  10000.000000  \n",
              "mean     -49.022259  \n",
              "std       41.159870  \n",
              "min     -209.935760  \n",
              "25%      -76.834515  \n",
              "50%      -49.420509  \n",
              "75%      -20.995152  \n",
              "max      102.473755  \n",
              "\n",
              "[8 rows x 72 columns]"
            ]
          },
          "metadata": {},
          "output_type": "display_data"
        },
        {
          "name": "stdout",
          "output_type": "stream",
          "text": [
            "----------------------------------------------------------------------------------------------------\n",
            "Проверка на наличие пропусков:\n",
            "\n",
            "0\n",
            "----------------------------------------------------------------------------------------------------\n",
            "Проверка на наличие явных дубликатов:\n",
            "\n"
          ]
        },
        {
          "data": {
            "text/plain": [
              "265"
            ]
          },
          "metadata": {},
          "output_type": "display_data"
        },
        {
          "name": "stdout",
          "output_type": "stream",
          "text": [
            "----------------------------------------------------------------------------------------------------\n",
            "Вывод количества уникальных значений:\n",
            "\n"
          ]
        },
        {
          "data": {
            "text/html": [
              "<div>\n",
              "<style scoped>\n",
              "    .dataframe tbody tr th:only-of-type {\n",
              "        vertical-align: middle;\n",
              "    }\n",
              "\n",
              "    .dataframe tbody tr th {\n",
              "        vertical-align: top;\n",
              "    }\n",
              "\n",
              "    .dataframe thead th {\n",
              "        text-align: right;\n",
              "    }\n",
              "</style>\n",
              "<table border=\"1\" class=\"dataframe\">\n",
              "  <thead>\n",
              "    <tr style=\"text-align: right;\">\n",
              "      <th></th>\n",
              "      <th>0</th>\n",
              "    </tr>\n",
              "  </thead>\n",
              "  <tbody>\n",
              "    <tr>\n",
              "      <th>0</th>\n",
              "      <td>9667</td>\n",
              "    </tr>\n",
              "    <tr>\n",
              "      <th>1</th>\n",
              "      <td>9669</td>\n",
              "    </tr>\n",
              "    <tr>\n",
              "      <th>2</th>\n",
              "      <td>9672</td>\n",
              "    </tr>\n",
              "    <tr>\n",
              "      <th>3</th>\n",
              "      <td>9661</td>\n",
              "    </tr>\n",
              "    <tr>\n",
              "      <th>4</th>\n",
              "      <td>9668</td>\n",
              "    </tr>\n",
              "    <tr>\n",
              "      <th>...</th>\n",
              "      <td>...</td>\n",
              "    </tr>\n",
              "    <tr>\n",
              "      <th>67</th>\n",
              "      <td>9672</td>\n",
              "    </tr>\n",
              "    <tr>\n",
              "      <th>68</th>\n",
              "      <td>9668</td>\n",
              "    </tr>\n",
              "    <tr>\n",
              "      <th>69</th>\n",
              "      <td>9668</td>\n",
              "    </tr>\n",
              "    <tr>\n",
              "      <th>70</th>\n",
              "      <td>7419</td>\n",
              "    </tr>\n",
              "    <tr>\n",
              "      <th>71</th>\n",
              "      <td>9670</td>\n",
              "    </tr>\n",
              "  </tbody>\n",
              "</table>\n",
              "<p>72 rows × 1 columns</p>\n",
              "</div>"
            ],
            "text/plain": [
              "       0\n",
              "0   9667\n",
              "1   9669\n",
              "2   9672\n",
              "3   9661\n",
              "4   9668\n",
              "..   ...\n",
              "67  9672\n",
              "68  9668\n",
              "69  9668\n",
              "70  7419\n",
              "71  9670\n",
              "\n",
              "[72 rows x 1 columns]"
            ]
          },
          "metadata": {},
          "output_type": "display_data"
        }
      ],
      "source": [
        "preprocessing(df_validation)"
      ]
    },
    {
      "cell_type": "code",
      "execution_count": 14,
      "metadata": {
        "id": "CF1fuDU6tNvp"
      },
      "outputs": [],
      "source": [
        "# df_validation.hist(figsize=(25, 25));"
      ]
    },
    {
      "cell_type": "code",
      "execution_count": 15,
      "metadata": {
        "id": "xlxBaQObtNtF"
      },
      "outputs": [],
      "source": [
        "# plot_qq_grids(df_validation)"
      ]
    },
    {
      "cell_type": "markdown",
      "metadata": {
        "id": "WtCw35k0unGw"
      },
      "source": [
        "**Вывод**\n",
        "В результате анализа датасета с 72 колонками и 10 000 строками были получены следующие ключевые моменты:\n",
        "\n",
        "- Дубликаты: Обнаружено 265 дубликатов. Рекомендуется провести их удаление для повышения качества анализа и моделирования.\n",
        "- Пропуски: Пропуски отсутствуют, что позволяет использовать все доступные данные для дальнейшего анализа.\n",
        "- Типы данных: Все значения числовые и успешно приведены к формату float32, что оптимизирует использование памяти.\n",
        "- Названия признаков: Признаки без имен, пронумерованные по порядку. Вероятно, данные закодированы, что следует учитывать при интерпретации результатов.\n",
        "- Стандартизация: Разнообразие диапазонов значений признаков требует стандартизации для улучшения производительности моделей.\n",
        "- Распределение значений: Большинство признаков имеют распределение, близкое к нормальному. Однако признаки с номерами 6, 21, 25, 33, 44, 59, 65 и 70 имеют отклонения. (как и в общей базе) Рекомендуется рассмотреть возможность их удаления, поскольку недостаток понимания их значимости может усложнить процесс моделирования."
      ]
    },
    {
      "cell_type": "markdown",
      "metadata": {
        "id": "V0wxJd-UvZ9Q"
      },
      "source": [
        "## Посмотрим на df_validation_answer\n"
      ]
    },
    {
      "cell_type": "code",
      "execution_count": 16,
      "metadata": {
        "colab": {
          "base_uri": "https://localhost:8080/",
          "height": 997
        },
        "id": "xbmqj27rtNqs",
        "outputId": "7e152a07-dd5e-47c8-966c-7d6789d6ccdf"
      },
      "outputs": [
        {
          "name": "stdout",
          "output_type": "stream",
          "text": [
            "Изучение данных датафрейма\n",
            "Вывод первых 5 строк \n",
            "\n"
          ]
        },
        {
          "data": {
            "text/html": [
              "<div>\n",
              "<style scoped>\n",
              "    .dataframe tbody tr th:only-of-type {\n",
              "        vertical-align: middle;\n",
              "    }\n",
              "\n",
              "    .dataframe tbody tr th {\n",
              "        vertical-align: top;\n",
              "    }\n",
              "\n",
              "    .dataframe thead th {\n",
              "        text-align: right;\n",
              "    }\n",
              "</style>\n",
              "<table border=\"1\" class=\"dataframe\">\n",
              "  <thead>\n",
              "    <tr style=\"text-align: right;\">\n",
              "      <th></th>\n",
              "      <th>expected</th>\n",
              "    </tr>\n",
              "    <tr>\n",
              "      <th>Id</th>\n",
              "      <th></th>\n",
              "    </tr>\n",
              "  </thead>\n",
              "  <tbody>\n",
              "    <tr>\n",
              "      <th>196680-query</th>\n",
              "      <td>1087368-base</td>\n",
              "    </tr>\n",
              "    <tr>\n",
              "      <th>134615-query</th>\n",
              "      <td>849674-base</td>\n",
              "    </tr>\n",
              "    <tr>\n",
              "      <th>82675-query</th>\n",
              "      <td>4183486-base</td>\n",
              "    </tr>\n",
              "    <tr>\n",
              "      <th>162076-query</th>\n",
              "      <td>2879258-base</td>\n",
              "    </tr>\n",
              "    <tr>\n",
              "      <th>23069-query</th>\n",
              "      <td>615229-base</td>\n",
              "    </tr>\n",
              "  </tbody>\n",
              "</table>\n",
              "</div>"
            ],
            "text/plain": [
              "                  expected\n",
              "Id                        \n",
              "196680-query  1087368-base\n",
              "134615-query   849674-base\n",
              "82675-query   4183486-base\n",
              "162076-query  2879258-base\n",
              "23069-query    615229-base"
            ]
          },
          "metadata": {},
          "output_type": "display_data"
        },
        {
          "name": "stdout",
          "output_type": "stream",
          "text": [
            "----------------------------------------------------------------------------------------------------\n",
            "Размерность датафрейма составляет - (10000, 1)\n",
            "----------------------------------------------------------------------------------------------------\n",
            "Общая информация:\n",
            "\n",
            "<class 'pandas.core.frame.DataFrame'>\n",
            "Index: 10000 entries, 196680-query to 43566-query\n",
            "Data columns (total 1 columns):\n",
            " #   Column    Non-Null Count  Dtype \n",
            "---  ------    --------------  ----- \n",
            " 0   expected  10000 non-null  object\n",
            "dtypes: object(1)\n",
            "memory usage: 156.2+ KB\n"
          ]
        },
        {
          "data": {
            "text/plain": [
              "None"
            ]
          },
          "metadata": {},
          "output_type": "display_data"
        },
        {
          "name": "stdout",
          "output_type": "stream",
          "text": [
            "----------------------------------------------------------------------------------------------------\n",
            "Описательная статистика:\n",
            "\n"
          ]
        },
        {
          "data": {
            "text/html": [
              "<div>\n",
              "<style scoped>\n",
              "    .dataframe tbody tr th:only-of-type {\n",
              "        vertical-align: middle;\n",
              "    }\n",
              "\n",
              "    .dataframe tbody tr th {\n",
              "        vertical-align: top;\n",
              "    }\n",
              "\n",
              "    .dataframe thead th {\n",
              "        text-align: right;\n",
              "    }\n",
              "</style>\n",
              "<table border=\"1\" class=\"dataframe\">\n",
              "  <thead>\n",
              "    <tr style=\"text-align: right;\">\n",
              "      <th></th>\n",
              "      <th>expected</th>\n",
              "    </tr>\n",
              "  </thead>\n",
              "  <tbody>\n",
              "    <tr>\n",
              "      <th>count</th>\n",
              "      <td>10000</td>\n",
              "    </tr>\n",
              "    <tr>\n",
              "      <th>unique</th>\n",
              "      <td>9640</td>\n",
              "    </tr>\n",
              "    <tr>\n",
              "      <th>top</th>\n",
              "      <td>935520-base</td>\n",
              "    </tr>\n",
              "    <tr>\n",
              "      <th>freq</th>\n",
              "      <td>3</td>\n",
              "    </tr>\n",
              "  </tbody>\n",
              "</table>\n",
              "</div>"
            ],
            "text/plain": [
              "           expected\n",
              "count         10000\n",
              "unique         9640\n",
              "top     935520-base\n",
              "freq              3"
            ]
          },
          "metadata": {},
          "output_type": "display_data"
        },
        {
          "name": "stdout",
          "output_type": "stream",
          "text": [
            "----------------------------------------------------------------------------------------------------\n",
            "Проверка на наличие пропусков:\n",
            "\n",
            "0\n",
            "----------------------------------------------------------------------------------------------------\n",
            "Проверка на наличие явных дубликатов:\n",
            "\n"
          ]
        },
        {
          "data": {
            "text/plain": [
              "360"
            ]
          },
          "metadata": {},
          "output_type": "display_data"
        },
        {
          "name": "stdout",
          "output_type": "stream",
          "text": [
            "----------------------------------------------------------------------------------------------------\n",
            "Вывод количества уникальных значений:\n",
            "\n"
          ]
        },
        {
          "data": {
            "text/html": [
              "<div>\n",
              "<style scoped>\n",
              "    .dataframe tbody tr th:only-of-type {\n",
              "        vertical-align: middle;\n",
              "    }\n",
              "\n",
              "    .dataframe tbody tr th {\n",
              "        vertical-align: top;\n",
              "    }\n",
              "\n",
              "    .dataframe thead th {\n",
              "        text-align: right;\n",
              "    }\n",
              "</style>\n",
              "<table border=\"1\" class=\"dataframe\">\n",
              "  <thead>\n",
              "    <tr style=\"text-align: right;\">\n",
              "      <th></th>\n",
              "      <th>0</th>\n",
              "    </tr>\n",
              "  </thead>\n",
              "  <tbody>\n",
              "    <tr>\n",
              "      <th>expected</th>\n",
              "      <td>9640</td>\n",
              "    </tr>\n",
              "  </tbody>\n",
              "</table>\n",
              "</div>"
            ],
            "text/plain": [
              "             0\n",
              "expected  9640"
            ]
          },
          "metadata": {},
          "output_type": "display_data"
        }
      ],
      "source": [
        "preprocessing(df_validation_answer)"
      ]
    },
    {
      "cell_type": "markdown",
      "metadata": {
        "id": "VdicakhmwxN6"
      },
      "source": [
        "Это наша контрольная таблица, содержит столько же значений что и df_validation, поэтому удалять дубликаты не будем, всегда же может быть что нужно найти пары к одному и тому же товару, ну а ответы конечно могут содержать похожие товары"
      ]
    },
    {
      "cell_type": "markdown",
      "metadata": {
        "id": "PKpC9VxRxCO7"
      },
      "source": [
        "#Предобработка\n"
      ]
    },
    {
      "cell_type": "code",
      "execution_count": 17,
      "metadata": {
        "id": "ISblO_DT1Mp8"
      },
      "outputs": [],
      "source": [
        "def preprocess_data(df, drop_duplicates=True):\n",
        "    # Проверка на дубликаты\n",
        "    if drop_duplicates:\n",
        "        # Подсчет количества дубликатов до их удаления\n",
        "        num_duplicates_before = df.duplicated().sum()\n",
        "        if num_duplicates_before > 0:\n",
        "            print(f\"Обнаружено {num_duplicates_before} дубликатов. Они будут удалены.\")\n",
        "            df = df.drop_duplicates()\n",
        "            # Подсчет количества дубликатов после удаления\n",
        "            num_duplicates_after = df.duplicated().sum()\n",
        "            if num_duplicates_after == 0:\n",
        "                print(\"Дубликаты успешно удалены.\")\n",
        "            else:\n",
        "                print(f\"После удаления осталось {num_duplicates_after} дубликатов.\")\n",
        "        else:\n",
        "            print(\"Дубликаты не обнаружены.\")\n",
        "    return df"
      ]
    },
    {
      "cell_type": "code",
      "execution_count": 18,
      "metadata": {
        "colab": {
          "base_uri": "https://localhost:8080/"
        },
        "id": "jkDxXvdB580u",
        "outputId": "74ad0b01-250f-416a-f662-5a2182153920"
      },
      "outputs": [
        {
          "name": "stdout",
          "output_type": "stream",
          "text": [
            "Обнаружено 11278 дубликатов. Они будут удалены.\n",
            "Дубликаты успешно удалены.\n",
            "Обнаружено 243 дубликатов. Они будут удалены.\n",
            "Дубликаты успешно удалены.\n"
          ]
        }
      ],
      "source": [
        "# Предобработка наборов данных\n",
        "df_base = preprocess_data(df_base)\n",
        "df_train = preprocess_data(df_train)\n",
        "df_validation = preprocess_data(df_validation, drop_duplicates=False)  # Не удаляем дубликаты\n",
        "df_validation_answer = preprocess_data(\n",
        "    df_validation_answer, drop_duplicates=False\n",
        ")  # Не удаляем дубликаты"
      ]
    },
    {
      "cell_type": "markdown",
      "metadata": {
        "id": "6GFT0HdyfAKe"
      },
      "source": [
        "Так как признаки в нашем датасете находятся в разных диапазонах , это может привести к тому, что алгоритм будет неправильно интерпретировать расстояния между точками. В дальнейшем нужно провести поиск ближайших соседей на основе рассчета растояний между векторами, следоательно нам нужно использовать StandardScaler, и с помощью него провести стандартизацию признаков - стандартизация приводит все признаки к единой шкале (среднее 0 и стандартное отклонение 1), что делает расстояния между точками более объективными и корректными."
      ]
    },
    {
      "cell_type": "code",
      "execution_count": 19,
      "metadata": {
        "id": "vbBGTESD6WcQ"
      },
      "outputs": [],
      "source": [
        "def standardize_data(df):\n",
        "    # Получение числовых столбцов\n",
        "    numerical_cols = df.select_dtypes(include=[\"float64\", \"float32\", \"int\", \"int64\"]).columns\n",
        "    scaler = StandardScaler()\n",
        "\n",
        "    # Проверка, есть ли числовые столбцы для стандартизации\n",
        "    if len(numerical_cols) > 0:\n",
        "        df[numerical_cols] = scaler.fit_transform(df[numerical_cols])\n",
        "\n",
        "        # Проверка успешности стандартизации\n",
        "        max_mean_deviation = df[numerical_cols].mean().abs().max()\n",
        "        max_std_deviation = (df[numerical_cols].std() - 1).abs().max()\n",
        "        if max_mean_deviation < 0.1 and max_std_deviation < 0.1:\n",
        "            print(\"Стандартизация прошла успешно.\")\n",
        "        else:\n",
        "            print(\"Стандартизация не удалась.\")\n",
        "    else:\n",
        "        print(\"Нет числовых столбцов для стандартизации.\")\n",
        "\n",
        "    return df"
      ]
    },
    {
      "cell_type": "code",
      "execution_count": 20,
      "metadata": {
        "id": "tQZsz_ty99J1"
      },
      "outputs": [],
      "source": [
        "# настройка отображения чисел с плавающей точкой\n",
        "pd.set_option(\"display.float_format\", \"{:.3f}\".format)"
      ]
    },
    {
      "cell_type": "code",
      "execution_count": 21,
      "metadata": {
        "colab": {
          "base_uri": "https://localhost:8080/"
        },
        "id": "1JHIluZ-6WV9",
        "outputId": "a01cd5c4-0ca5-44d8-f765-26b5748a7835"
      },
      "outputs": [
        {
          "name": "stdout",
          "output_type": "stream",
          "text": [
            "Стандартизация прошла успешно.\n",
            "Стандартизация прошла успешно.\n",
            "Стандартизация прошла успешно.\n"
          ]
        }
      ],
      "source": [
        "# Стандартизация\n",
        "df_base = standardize_data(df_base)\n",
        "df_train = standardize_data(df_train)\n",
        "df_validation = standardize_data(df_validation)"
      ]
    },
    {
      "cell_type": "code",
      "execution_count": 22,
      "metadata": {
        "id": "OgQLHTD7tNlE"
      },
      "outputs": [],
      "source": [
        "# Удаление колонок с отклонениями\n",
        "columns_to_remove = [6, 21, 25, 33, 44, 59, 65, 70]\n",
        "df_base.drop(columns=df_base.columns[columns_to_remove], inplace=True)\n",
        "df_train.drop(columns=df_train.columns[columns_to_remove], inplace=True)\n",
        "df_validation.drop(columns=df_validation.columns[columns_to_remove], inplace=True)"
      ]
    },
    {
      "cell_type": "code",
      "execution_count": 23,
      "metadata": {
        "colab": {
          "base_uri": "https://localhost:8080/"
        },
        "id": "yyT4vFWvtNiP",
        "outputId": "98625624-aef3-461d-da59-bcc8f69ce794"
      },
      "outputs": [
        {
          "name": "stdout",
          "output_type": "stream",
          "text": [
            "df_base shape: (280535, 64)\n",
            "df_train shape: (9756, 65)\n",
            "df_validation shape: (10000, 64)\n",
            "df_validation_answer shape: (10000, 1)\n"
          ]
        }
      ],
      "source": [
        "# Вывод размера предобработанных данных\n",
        "print(f\"df_base shape: {df_base.shape}\")\n",
        "print(f\"df_train shape: {df_train.shape}\")\n",
        "print(f\"df_validation shape: {df_validation.shape}\")\n",
        "print(f\"df_validation_answer shape: {df_validation_answer.shape}\")"
      ]
    },
    {
      "cell_type": "code",
      "execution_count": 24,
      "metadata": {
        "colab": {
          "base_uri": "https://localhost:8080/"
        },
        "id": "9RiUu2VatNcI",
        "outputId": "a009679a-2b03-48f1-ed96-070464b7c9c3"
      },
      "outputs": [
        {
          "name": "stdout",
          "output_type": "stream",
          "text": [
            "The operation couldn’t be completed. Unable to locate a Java Runtime that supports apt.\n",
            "Please visit http://www.java.com for information on installing Java.\n",
            "\n"
          ]
        }
      ],
      "source": [
        "!apt -q install libomp-dev -q\n",
        "\n",
        "if sys.platform.startswith(\"darwin\"):\n",
        "    !pip -q install faiss-cpu  -q\n",
        "else:\n",
        "    !pip -q install faiss-gpu  -q"
      ]
    },
    {
      "cell_type": "markdown",
      "metadata": {
        "id": "RxARM_d_kkpv"
      },
      "source": [
        "**Предобработка завершена, данные стандартизированы, столбцы выбивающиеся из нормального распределения удалены можно приступать к настройке алгоритма**"
      ]
    },
    {
      "cell_type": "markdown",
      "metadata": {
        "id": "-0ZZsSCZk8pt"
      },
      "source": [
        "Faiss (Facebook AI Similarity Search) — это библиотека для эффективного поиска похожих векторов в больших наборах данных. Она была разработана в Facebook для обработки огромных объемов данных, таких как изображения или тексты, где необходимо быстро находить близкие векторы по метрике сходства"
      ]
    },
    {
      "cell_type": "markdown",
      "metadata": {
        "id": "eUld_nsalOiz"
      },
      "source": [
        "**Как работает Faiss:**\n",
        "- Индексация данных: В начале необходимо индексировать набор данных. Faiss создает структуру данных, которая быстро позволяет находить близкие векторы к запросам.\n",
        "\n",
        "- Поиск похожих векторов: Когда данные проиндексированы, Faiss позволяет выполнять запросы для поиска близких векторов к заданному запросу. Можно указать количество ближайших соседей, которые нужно найти, и Faiss вернет наиболее близкие векторы по выбранной метрике расстояния.\n",
        "\n",
        "- Оптимизация производительности: Faiss оптимизирован для работы с большими объемами данных и предлагает эффективные алгоритмы для ускорения операций поиска, включая использование GPU и специализированные структуры данных.\n",
        "\n",
        "Свою работу выполняю на Mac OS, поэтому использую CPU (На CPU доступны те же алгоритмы индексации, что и на GPU, включая IndexFlatL2, IndexIVFFlat, IndexIVFPQ)"
      ]
    },
    {
      "cell_type": "markdown",
      "metadata": {
        "id": "ZRVTR3Vrp2uY"
      },
      "source": [
        "IndexFlatL2 является одним из самых простых и прямолинейных индексов в Faiss, который использует L2 (евклидово) расстояние для поиска ближайших соседей. Этот индекс не использует структурированные индексы или квантование, что делает его подходящим для небольших наборов данных или когда требуется высокая точность."
      ]
    },
    {
      "cell_type": "markdown",
      "metadata": {
        "id": "lpg4d0Aop5AT"
      },
      "source": [
        "Мы будем использовать **IndexIVFFlat**\n",
        "IndexIVFFlat является более сложным и эффективным индексом в Faiss, предназначенным для работы с большими наборами данных. Он использует инвертированные файлы (Inverted File Lists, IVF) для ускорения поиска ближайших соседей, разбивая пространство векторов на кластеры и выполняя поиск только в наиболее релевантных кластерах."
      ]
    },
    {
      "cell_type": "markdown",
      "metadata": {
        "id": "uCQcLKwzqIJs"
      },
      "source": [
        "Данный индекс нам наиболее подходит ввиду большой базы данных"
      ]
    },
    {
      "cell_type": "markdown",
      "metadata": {
        "id": "DCov9DvYqYbW"
      },
      "source": [
        "Для инициализации IndexIVFFlat необходимо использовать квантователь типа IndexFlatL2. Это связано с тем, что IndexFlatL2 является простым индексом, который будет использоваться для создания кластеров при тренировке IndexIVFFlat.\n",
        "\n",
        "Квантователь (quantizer) — это индекс, который используется для разбиения пространства векторов на кластеры. В основном, квантователь помогает разделить большое количество векторов на меньшие подмножества, что позволяет существенно ускорить процесс поиска ближайших соседей. IndexFlatL2 используется как квантователь для IndexIVFFlat, чтобы создать кластеры на основе евклидова расстояния.\n",
        "\n",
        "После создания и тренировки кластеров, основной индекс IndexIVFFlat будет использовать эти кластеры для быстрого поиска ближайших соседей."
      ]
    },
    {
      "cell_type": "code",
      "execution_count": 25,
      "metadata": {
        "id": "IID21fCw_Hm2"
      },
      "outputs": [],
      "source": [
        "import faiss"
      ]
    },
    {
      "cell_type": "markdown",
      "metadata": {
        "id": "SxY7SnIvq_sp"
      },
      "source": [
        "Для тренировки алгоритма, нужно определиться с тем сколько у нас будет кластеров, и определить в скольки кластерах наш алгоритм будет искать ближайших соседей. При 1 алгоритм ищет только в одном кластере, при большем количестве поиск идет в большем количестве кластеров, увеличивая время поиска, но и повышает точность.\n",
        "Выбор оптимального значения nprobe зависит от компромисса между точностью и производительностью."
      ]
    },
    {
      "cell_type": "markdown",
      "metadata": {
        "id": "dJXred1yvdzd"
      },
      "source": [
        "https://www.geeksforgeeks.org/determining-the-number-of-clusters-in-data-mining/ говорит, что оптимально взять  значение примерно √(n/2) для набора данных из n точек\n",
        "> A simple method to calculate the number of clusters is to set the value to about √(n/2) for a dataset of ‘n’ points.\n",
        "\n",
        "Однако, код у меня завис с таки большим количеством кластеров, в связи с чем, возьму пока небольшое значение в 20, и проведем поиск по 5 кластерам https://github.com/facebookresearch/faiss/wiki/Faiss-indexes документация говорит о том что чем больше поиск по кластерам тем точнее, в одном из примеров было указано значение 5, его и возьмем для nprobe\n"
      ]
    },
    {
      "cell_type": "markdown",
      "metadata": {
        "id": "oTOWYPTCwUYN"
      },
      "source": [
        "Далее планирую использовать метод локтя: для выбора оптимального количества кластеров. Для этого оценим внутреннюю метрику, такую как внутрикластерное расстояние, и выберем количество кластеров на \"локте\" графика."
      ]
    },
    {
      "cell_type": "code",
      "execution_count": 26,
      "metadata": {
        "id": "ifQHKqQ5pNLH"
      },
      "outputs": [],
      "source": [
        "# Извлечение признаков и идентификаторов\n",
        "#  получение размерности признаков\n",
        "dims = df_base.shape[1]\n",
        "# Количество ячеек (кластеров) для индекса IVF.\n",
        "n_cells = 20\n",
        "# Инициализация квантователя с L2-нормой.\n",
        "quantizer = faiss.IndexFlatL2(dims)\n",
        "# Создание индекса с векторным квантованием (IVF) с указанными параметрами.\n",
        "idx_l2 = faiss.IndexIVFFlat(quantizer, dims, n_cells)\n",
        "# Количество кластеров в которых будет проходить поиск\n",
        "idx_l2.nprobe = 5"
      ]
    },
    {
      "cell_type": "code",
      "execution_count": 27,
      "metadata": {
        "id": "di-eOoV5pNB4"
      },
      "outputs": [],
      "source": [
        "# Случайным образом выбираем 50000 строк из df_base для обучения (для ускорения)\n",
        "# random_sample = df_base.sample(n=50000, random_state=42)"
      ]
    },
    {
      "cell_type": "markdown",
      "metadata": {
        "id": "lsekSkX83Rd6"
      },
      "source": [
        "https://machinelearningapplied.com/fast-gpu-based-nearest-neighbors-with-faiss/\n",
        "Воспользовалась подсказкой что\n",
        "\n",
        "\n",
        "> для при использовании массивов Numpy в качестве входных данных для них должно быть задано значение dtype = ‘float32’. Faiss предполагает, что массивы Numpy являются непрерывными. Воспользуйся: ny_array = np.ascontiguousarray(npy_array)"
      ]
    },
    {
      "cell_type": "code",
      "execution_count": 28,
      "metadata": {
        "id": "WYwelVhppM3c"
      },
      "outputs": [],
      "source": [
        "# Подготовка данных для Faiss\n",
        "# Преобразуем признаки в формат np.array типа float32, необходимый для Faiss\n",
        "# random_sample_features = np.ascontiguousarray(random_sample.values).astype('float32')\n",
        "# Преобразуем данные df_base в формат np.array типа float32 для использования в Faiss\n",
        "# base_features = np.ascontiguousarray(df_base.values).astype('float32')\n",
        "base_features = np.ascontiguousarray(df_base.values).astype(\"float32\")"
      ]
    },
    {
      "cell_type": "markdown",
      "metadata": {
        "id": "5U2PgJZL5eAR"
      },
      "source": [
        "df_base содержит полный набор данных, который представляет все товары, среди которых будет происходить поиск ближайших соседей. Индекс должен содержать все возможные варианты товаров, чтобы при запросе из df_train мы могли правильно найти ближайшие соответствия среди всех товаров. Поэтому используем данные из df_base для создания и тренировки индекса, а  df_train используем для проверки точности поиска ближайших соседей."
      ]
    },
    {
      "cell_type": "code",
      "execution_count": 29,
      "metadata": {
        "id": "iBX_CUPppKST"
      },
      "outputs": [],
      "source": [
        "# Тренируем индекс на случайной выборке\n",
        "# idx_l2.train(random_sample_features)\n",
        "idx_l2.train(base_features)\n",
        "# Добавляем основные данные (df_base) в индекс, чтобы индекс знал, какие данные у него есть.\n",
        "idx_l2.add(base_features)"
      ]
    },
    {
      "cell_type": "markdown",
      "metadata": {
        "id": "WevTVGwL89br"
      },
      "source": [
        "Создаем словарь, который сопоставляет каждому индексу его идентификатор из столбца id. Это позволит быстро находить идентификаторы по индексам."
      ]
    },
    {
      "cell_type": "code",
      "execution_count": 30,
      "metadata": {
        "id": "pL5H4F-0pKD4"
      },
      "outputs": [],
      "source": [
        "# Создание словаря индексов\n",
        "base_index = dict(enumerate(df_base.index.to_list()))"
      ]
    },
    {
      "cell_type": "code",
      "execution_count": 31,
      "metadata": {
        "id": "DVmxGpMV7pfz"
      },
      "outputs": [],
      "source": [
        "# Сохранение целевых значений и удаление столбца 'target' из df_train\n",
        "targets = df_train[\"target\"].values"
      ]
    },
    {
      "cell_type": "code",
      "execution_count": 32,
      "metadata": {
        "id": "EpNzOSi07pVx"
      },
      "outputs": [],
      "source": [
        "df_train_features = df_train.drop(\n",
        "    [\"target\"], axis=1\n",
        ")  # Удаляем столбец 'target' из df_train для подготовки данных к поиску ближайших соседей"
      ]
    },
    {
      "cell_type": "code",
      "execution_count": 33,
      "metadata": {
        "id": "kSlrarjp7pKy"
      },
      "outputs": [],
      "source": [
        "train_features = np.ascontiguousarray(df_train_features.values).astype(\n",
        "    \"float32\"\n",
        ")  # Преобразуем данные df_train в формат np.array типа float32 для использования в Faiss"
      ]
    },
    {
      "cell_type": "markdown",
      "metadata": {
        "id": "VZvJHxdZ9SBi"
      },
      "source": [
        "Используем подготовленные тренировочные данные, чтобы найти 5 ближайших соседей для каждого элемента. distances — это расстояния до соседей, а indices — индексы этих соседей."
      ]
    },
    {
      "cell_type": "code",
      "execution_count": 34,
      "metadata": {
        "id": "kBmLqDNX79hE"
      },
      "outputs": [],
      "source": [
        "# Поиск ближайших соседей для тренировочных данных\n",
        "k = 5  # Количество ближайших соседей для поиска\n",
        "distances, indices = idx_l2.search(\n",
        "    train_features, k\n",
        ")  # Ищем k ближайших соседей для каждой строки в train_features"
      ]
    },
    {
      "cell_type": "code",
      "execution_count": 35,
      "metadata": {
        "id": "wRenlLsg79Xg"
      },
      "outputs": [],
      "source": [
        "# Проверка качества алгоритма\n",
        "acc = 0\n",
        "for target, neighbors in zip(\n",
        "    targets, indices\n",
        "):  # Проходим по каждому целевому значению и его ближайшим соседям\n",
        "    acc += int(\n",
        "        target in [base_index[r] for r in neighbors]\n",
        "    )  # Увеличиваем счетчик, если целевое значение присутствует среди соседей"
      ]
    },
    {
      "cell_type": "code",
      "execution_count": 36,
      "metadata": {
        "colab": {
          "base_uri": "https://localhost:8080/"
        },
        "id": "V0voY0vX79MH",
        "outputId": "bcfd201a-b3ae-46b9-bdab-5dfef24d278c"
      },
      "outputs": [
        {
          "name": "stdout",
          "output_type": "stream",
          "text": [
            "Accuracy: 77.94%\n"
          ]
        }
      ],
      "source": [
        "# Вывод точности\n",
        "accuracy = 100 * acc / len(indices)  # Вычисляем точность в процентах\n",
        "print(f\"Accuracy: {accuracy:.2f}%\")  # Выводим точность на экран"
      ]
    },
    {
      "cell_type": "code",
      "execution_count": 37,
      "metadata": {
        "colab": {
          "base_uri": "https://localhost:8080/",
          "height": 599
        },
        "id": "4eWc_zIz9-qa",
        "outputId": "c196766a-6c8e-42ef-ce1e-7961162d1c82"
      },
      "outputs": [],
      "source": [
        "# Диапазон значений для n_cells\n",
        "n_cells_range = range(5, 51, 5)\n",
        "k = 5  # Количество ближайших соседей для поиска\n",
        "\n",
        "accuracies = []\n",
        "\n",
        "for n_cells in n_cells_range:\n",
        "    # Инициализация квантователя с L2-нормой и создание индекса\n",
        "    quantizer = faiss.IndexFlatL2(dims)\n",
        "    idx_l2 = faiss.IndexIVFFlat(quantizer, dims, n_cells)\n",
        "    idx_l2.nprobe = 5\n",
        "\n",
        "    # Обучение индекса\n",
        "    idx_l2.train(base_features)\n",
        "    idx_l2.add(base_features)\n",
        "\n",
        "    # Поиск ближайших соседей\n",
        "    distances, indices = idx_l2.search(train_features, k)\n",
        "\n",
        "    # Оценка точности\n",
        "    acc = 0\n",
        "    for target, neighbors in zip(targets, indices):\n",
        "        acc += int(target in [base_index[r] for r in neighbors])\n",
        "\n",
        "    accuracy = 100 * acc / len(indices)\n",
        "    accuracies.append(accuracy)"
      ]
    },
    {
      "cell_type": "code",
      "execution_count": 38,
      "metadata": {
        "colab": {
          "base_uri": "https://localhost:8080/",
          "height": 564
        },
        "id": "lFyN22Yg9-k0",
        "outputId": "3160fe14-bf2a-49c5-86e4-907beed578b9"
      },
      "outputs": [
        {
          "data": {
            "image/png": "[encoded data removed]",
            "text/plain": [
              "<Figure size 1000x600 with 1 Axes>"
            ]
          },
          "metadata": {},
          "output_type": "display_data"
        }
      ],
      "source": [
        "# Построение графика метода локтя\n",
        "plt.figure(figsize=(10, 6))\n",
        "plt.plot(n_cells_range, accuracies, marker=\"o\", linestyle=\"-\")\n",
        "plt.xlabel(\"Количество кластеров (n_cells)\")\n",
        "plt.ylabel(\"Точность (%)\")\n",
        "plt.title(\"Метод локтя для нахождения оптимального количества n_cells\")\n",
        "plt.grid(True)\n",
        "plt.show()"
      ]
    },
    {
      "cell_type": "code",
      "execution_count": 39,
      "metadata": {
        "colab": {
          "base_uri": "https://localhost:8080/"
        },
        "id": "sa8gKVS39-gJ",
        "outputId": "7e5b92eb-88f2-4b82-b908-a8f6a45a06f3"
      },
      "outputs": [
        {
          "name": "stdout",
          "output_type": "stream",
          "text": [
            "Оптимальный n_cells: 5\n",
            "Точность: 79.00%\n"
          ]
        }
      ],
      "source": [
        "# Вывод лучшего значения n_cells\n",
        "optimal_n_cells = n_cells_range[np.argmax(accuracies)]\n",
        "print(f\"Оптимальный n_cells: {optimal_n_cells}\")\n",
        "print(f\"Точность: {max(accuracies):.2f}%\")"
      ]
    },
    {
      "cell_type": "code",
      "execution_count": null,
      "metadata": {
        "id": "dWXpCwmE9-WH"
      },
      "outputs": [],
      "source": []
    },
    {
      "cell_type": "code",
      "execution_count": null,
      "metadata": {
        "id": "ZiO_xE-J5KHq"
      },
      "outputs": [],
      "source": []
    },
    {
      "cell_type": "code",
      "execution_count": null,
      "metadata": {
        "id": "y-fXNq1c5LI0"
      },
      "outputs": [],
      "source": []
    },
    {
      "cell_type": "code",
      "execution_count": null,
      "metadata": {
        "id": "EK2dJJVu5LCr"
      },
      "outputs": [],
      "source": []
    },
    {
      "cell_type": "code",
      "execution_count": null,
      "metadata": {
        "id": "hdAnP2oI5K-6"
      },
      "outputs": [],
      "source": []
    },
    {
      "cell_type": "code",
      "execution_count": null,
      "metadata": {
        "id": "c-WMut6L5K66"
      },
      "outputs": [],
      "source": []
    },
    {
      "cell_type": "code",
      "execution_count": null,
      "metadata": {
        "id": "-pQcNolK5KuQ"
      },
      "outputs": [],
      "source": []
    },
    {
      "cell_type": "code",
      "execution_count": null,
      "metadata": {
        "id": "I2nLsh6hz8cM"
      },
      "outputs": [],
      "source": []
    },
    {
      "cell_type": "code",
      "execution_count": null,
      "metadata": {
        "id": "-en6on68z8X2"
      },
      "outputs": [],
      "source": []
    },
    {
      "cell_type": "code",
      "execution_count": null,
      "metadata": {
        "id": "RcBEAbKJz8RO"
      },
      "outputs": [],
      "source": []
    },
    {
      "cell_type": "code",
      "execution_count": null,
      "metadata": {
        "id": "zXKMQg_az8Nu"
      },
      "outputs": [],
      "source": []
    },
    {
      "cell_type": "code",
      "execution_count": null,
      "metadata": {
        "id": "ypycUtpjz8KU"
      },
      "outputs": [],
      "source": []
    },
    {
      "cell_type": "code",
      "execution_count": null,
      "metadata": {
        "id": "klr_ozuQz8F-"
      },
      "outputs": [],
      "source": []
    },
    {
      "cell_type": "code",
      "execution_count": null,
      "metadata": {
        "id": "g_Lv6_trz7-W"
      },
      "outputs": [],
      "source": []
    },
    {
      "cell_type": "code",
      "execution_count": null,
      "metadata": {
        "id": "o__8a_UQz7zt"
      },
      "outputs": [],
      "source": []
    },
    {
      "cell_type": "code",
      "execution_count": null,
      "metadata": {
        "id": "njmvqx1yz7wO"
      },
      "outputs": [],
      "source": []
    },
    {
      "cell_type": "code",
      "execution_count": 40,
      "metadata": {
        "id": "CKS_wrxypX1Y"
      },
      "outputs": [],
      "source": [
        "# Определяем размер индексных векторов\n",
        "dims = df_base.shape[1]"
      ]
    },
    {
      "cell_type": "code",
      "execution_count": 41,
      "metadata": {
        "id": "LTbheFqPpe1U"
      },
      "outputs": [],
      "source": [
        "# Подготовим массив для хранения точностей\n",
        "n_cells_range = range(5, 51, 5)  # Проверяем от 5 до 50\n",
        "accuracies = []"
      ]
    },
    {
      "cell_type": "code",
      "execution_count": 42,
      "metadata": {
        "id": "EICc4Q37pXw4"
      },
      "outputs": [],
      "source": [
        "# Запоминаем индексы и целевые значения\n",
        "base_index = {k: v for k, v in enumerate(df_base.index.to_list())}\n",
        "targets = df_train[\"target\"].values\n",
        "df_train.drop(\"target\", axis=1, inplace=True)"
      ]
    },
    {
      "cell_type": "code",
      "execution_count": 43,
      "metadata": {
        "colab": {
          "base_uri": "https://localhost:8080/",
          "height": 646
        },
        "id": "JIx4noNNpXjT",
        "outputId": "0c9558c9-8342-4976-af60-c89dbfc33041"
      },
      "outputs": [
        {
          "name": "stdout",
          "output_type": "stream",
          "text": [
            "Number of Clusters: 5, Accuracy: 68.51%\n",
            "Number of Clusters: 10, Accuracy: 66.97%\n",
            "Number of Clusters: 15, Accuracy: 66.37%\n",
            "Number of Clusters: 20, Accuracy: 66.81%\n",
            "Number of Clusters: 25, Accuracy: 66.36%\n",
            "Number of Clusters: 30, Accuracy: 66.16%\n",
            "Number of Clusters: 35, Accuracy: 65.89%\n",
            "Number of Clusters: 40, Accuracy: 65.71%\n",
            "Number of Clusters: 45, Accuracy: 66.26%\n",
            "Number of Clusters: 50, Accuracy: 66.57%\n"
          ]
        },
        {
          "data": {
            "image/png": "[encoded data removed]",
            "text/plain": [
              "<Figure size 640x480 with 1 Axes>"
            ]
          },
          "metadata": {},
          "output_type": "display_data"
        }
      ],
      "source": [
        "# Поиск на различных значениях n_cells\n",
        "for n_cells in n_cells_range:\n",
        "    # Инициализация квантователя и индекса\n",
        "    quantizer = faiss.IndexFlatL2(dims)\n",
        "    idx_l2 = faiss.IndexIVFFlat(quantizer, dims, n_cells)\n",
        "    # idx_l2.nprobe = 5\n",
        "\n",
        "    # Берем случайную выборку для обучения\n",
        "    random_sample = df_base.sample(n=50000, random_state=42)\n",
        "\n",
        "    # Обучаем индекс и добавляем векторы\n",
        "    idx_l2.train(np.ascontiguousarray(random_sample.values).astype(\"float32\"))\n",
        "    idx_l2.add(np.ascontiguousarray(df_base.values).astype(\"float32\"))\n",
        "\n",
        "    # Находите пятерку ближайших соседей\n",
        "    r, idx = idx_l2.search(np.ascontiguousarray(df_train.values).astype(\"float32\"), 5)\n",
        "\n",
        "    # Проверяем качество алгоритма\n",
        "    acc = 0\n",
        "    for target, neighbors in zip(targets, idx):\n",
        "        acc += int(target in [base_index[r] for r in neighbors])\n",
        "\n",
        "    # Рассчитываем и сохраняем точность\n",
        "    accuracy = 100 * acc / len(idx)\n",
        "    accuracies.append(accuracy)\n",
        "    print(f\"Number of Clusters: {n_cells}, Accuracy: {accuracy:.2f}%\")\n",
        "\n",
        "# Визуализация результатов\n",
        "plt.plot(n_cells_range, accuracies, marker=\"o\")\n",
        "plt.xlabel(\"Количество кластеров (n_cells)\")\n",
        "plt.ylabel(\"Точность (%)\")\n",
        "plt.title(\"Метод локтя для выбора количества кластеров\")\n",
        "plt.xticks(n_cells_range)\n",
        "plt.grid()\n",
        "plt.show()"
      ]
    },
    {
      "cell_type": "code",
      "execution_count": 44,
      "metadata": {
        "id": "SoDFNznTLu0z"
      },
      "outputs": [],
      "source": [
        "# Поиск пяти индексов (пяти соседей) для validation из base\n",
        "r_val, idx_val = idx_l2.search(np.ascontiguousarray(df_validation.values).astype(\"float32\"), 5)"
      ]
    },
    {
      "cell_type": "code",
      "execution_count": 45,
      "metadata": {
        "colab": {
          "base_uri": "https://localhost:8080/"
        },
        "id": "xcJqHrwXLuoS",
        "outputId": "ee3d2237-ea71-4391-b9a8-70a6b9e4ca5f"
      },
      "outputs": [
        {
          "name": "stdout",
          "output_type": "stream",
          "text": [
            "Индексы пяти ближайших соседей:\n"
          ]
        },
        {
          "data": {
            "text/plain": [
              "array([[155542, 163078, 137496,  46202,  56838],\n",
              "       [  3786, 181149, 105570,  63407, 231295],\n",
              "       [ 54931,  97207, 238903, 235798,  64386],\n",
              "       ...,\n",
              "       [ 65791,  74434, 127241,  48427, 172267],\n",
              "       [138211,  89556, 178013,  75234, 249715],\n",
              "       [149533, 123736, 258445,  94651, 265962]])"
            ]
          },
          "execution_count": 45,
          "metadata": {},
          "output_type": "execute_result"
        }
      ],
      "source": [
        "# Выводим на экран индексы пяти ближайших соседей из base для каждого товара validation\n",
        "print(\"Индексы пяти ближайших соседей:\")\n",
        "idx_val"
      ]
    },
    {
      "cell_type": "code",
      "execution_count": 46,
      "metadata": {
        "id": "7F9A2SqbMh09"
      },
      "outputs": [],
      "source": [
        "# Извлекаем правильные ответы из df_valid_answer\n",
        "targets_valid = df_validation_answer[\"expected\"].values"
      ]
    },
    {
      "cell_type": "code",
      "execution_count": 47,
      "metadata": {
        "colab": {
          "base_uri": "https://localhost:8080/"
        },
        "id": "gLrZBVEDMoMr",
        "outputId": "be4eaca3-eaad-41fa-db71-89f17003ffb1"
      },
      "outputs": [
        {
          "data": {
            "text/plain": [
              "array(['1087368-base', '849674-base', '4183486-base', ..., '3821-base',\n",
              "       '18068-base', '1197661-base'], dtype=object)"
            ]
          },
          "execution_count": 47,
          "metadata": {},
          "output_type": "execute_result"
        }
      ],
      "source": [
        "targets_valid"
      ]
    },
    {
      "cell_type": "code",
      "execution_count": 48,
      "metadata": {
        "id": "oBNFx5y-LucW"
      },
      "outputs": [],
      "source": [
        "acc = 0\n",
        "base_index = dict(enumerate(df_base.index.to_list()))"
      ]
    },
    {
      "cell_type": "code",
      "execution_count": 49,
      "metadata": {
        "id": "cOv6nluALuP_"
      },
      "outputs": [],
      "source": [
        "# Проверяем качество алгоритма\n",
        "for target, neighbors in zip(targets_valid, idx_val):\n",
        "    acc += any(target == base_index[row] for row in neighbors)"
      ]
    },
    {
      "cell_type": "code",
      "execution_count": null,
      "metadata": {
        "id": "wSMNYUj-LuDV"
      },
      "outputs": [],
      "source": []
    },
    {
      "cell_type": "code",
      "execution_count": null,
      "metadata": {
        "id": "UbrSuLsfpXgC"
      },
      "outputs": [],
      "source": []
    },
    {
      "cell_type": "code",
      "execution_count": null,
      "metadata": {
        "id": "2baVKv92pXYv"
      },
      "outputs": [],
      "source": []
    },
    {
      "cell_type": "code",
      "execution_count": null,
      "metadata": {
        "id": "r9C5zZXIpXVN"
      },
      "outputs": [],
      "source": []
    },
    {
      "cell_type": "code",
      "execution_count": null,
      "metadata": {
        "id": "9_Xc3dzEpXI9"
      },
      "outputs": [],
      "source": []
    },
    {
      "cell_type": "code",
      "execution_count": 50,
      "metadata": {
        "id": "A2iRbKC1laTw"
      },
      "outputs": [],
      "source": [
        "# Определяем размер индексных векторов, равный количеству столбцов в base\n",
        "dims = df_base.shape[1]"
      ]
    },
    {
      "cell_type": "code",
      "execution_count": 51,
      "metadata": {
        "id": "Tqd5THK-laO2"
      },
      "outputs": [],
      "source": [
        "# Определяем количество кластеров/центроидов\n",
        "n_cells = 25"
      ]
    },
    {
      "cell_type": "code",
      "execution_count": 52,
      "metadata": {
        "id": "5NsXZKkelaJ_"
      },
      "outputs": [],
      "source": [
        "# Инициализируем квантователь\n",
        "quantizer = faiss.IndexFlatL2(dims)"
      ]
    },
    {
      "cell_type": "code",
      "execution_count": 53,
      "metadata": {
        "id": "8_2333ZslaFM"
      },
      "outputs": [],
      "source": [
        "# Определяем индекс\n",
        "idx_l2 = faiss.IndexIVFFlat(quantizer, dims, n_cells)"
      ]
    },
    {
      "cell_type": "code",
      "execution_count": 54,
      "metadata": {
        "id": "bwvGhq2tlh2X"
      },
      "outputs": [],
      "source": [
        "# Устанавливаем количество кластеров для поиска\n",
        "idx_l2.nprobe = 5"
      ]
    },
    {
      "cell_type": "code",
      "execution_count": 55,
      "metadata": {
        "id": "0tYpOQ2wlhxd"
      },
      "outputs": [],
      "source": [
        "random_sample = df_base.sample(n=50000, random_state=42)\n",
        "\n",
        "# Теперь можно использовать random_sample для обучения индекса\n",
        "idx_l2.train(np.ascontiguousarray(random_sample.values).astype(\"float32\"))"
      ]
    },
    {
      "cell_type": "code",
      "execution_count": 56,
      "metadata": {
        "id": "HeKJYYfSlhnu"
      },
      "outputs": [],
      "source": [
        "# Добавляем векторы в кластеры\n",
        "idx_l2.add(np.ascontiguousarray(df_base.values).astype(\"float32\"))"
      ]
    },
    {
      "cell_type": "code",
      "execution_count": 57,
      "metadata": {
        "id": "6pZFXa1ll3d8"
      },
      "outputs": [],
      "source": [
        "# Индексы base переводим в счетчик, начинающийся с нуля\n",
        "base_index = {k: v for k, v in enumerate(df_base.index.to_list())}"
      ]
    },
    {
      "cell_type": "code",
      "execution_count": 58,
      "metadata": {
        "id": "qB3PZ86gl3Xh"
      },
      "outputs": [
        {
          "ename": "KeyError",
          "evalue": "'target'",
          "output_type": "error",
          "traceback": [
            "\u001b[0;31m---------------------------------------------------------------------------\u001b[0m",
            "\u001b[0;31mKeyError\u001b[0m                                  Traceback (most recent call last)",
            "File \u001b[0;32m~/anaconda3/envs/practicum/lib/python3.9/site-packages/pandas/core/indexes/base.py:3790\u001b[0m, in \u001b[0;36mIndex.get_loc\u001b[0;34m(self, key)\u001b[0m\n\u001b[1;32m   3789\u001b[0m \u001b[38;5;28;01mtry\u001b[39;00m:\n\u001b[0;32m-> 3790\u001b[0m     \u001b[38;5;28;01mreturn\u001b[39;00m \u001b[38;5;28;43mself\u001b[39;49m\u001b[38;5;241;43m.\u001b[39;49m\u001b[43m_engine\u001b[49m\u001b[38;5;241;43m.\u001b[39;49m\u001b[43mget_loc\u001b[49m\u001b[43m(\u001b[49m\u001b[43mcasted_key\u001b[49m\u001b[43m)\u001b[49m\n\u001b[1;32m   3791\u001b[0m \u001b[38;5;28;01mexcept\u001b[39;00m \u001b[38;5;167;01mKeyError\u001b[39;00m \u001b[38;5;28;01mas\u001b[39;00m err:\n",
            "File \u001b[0;32mindex.pyx:152\u001b[0m, in \u001b[0;36mpandas._libs.index.IndexEngine.get_loc\u001b[0;34m()\u001b[0m\n",
            "File \u001b[0;32mindex.pyx:181\u001b[0m, in \u001b[0;36mpandas._libs.index.IndexEngine.get_loc\u001b[0;34m()\u001b[0m\n",
            "File \u001b[0;32mpandas/_libs/hashtable_class_helper.pxi:7080\u001b[0m, in \u001b[0;36mpandas._libs.hashtable.PyObjectHashTable.get_item\u001b[0;34m()\u001b[0m\n",
            "File \u001b[0;32mpandas/_libs/hashtable_class_helper.pxi:7088\u001b[0m, in \u001b[0;36mpandas._libs.hashtable.PyObjectHashTable.get_item\u001b[0;34m()\u001b[0m\n",
            "\u001b[0;31mKeyError\u001b[0m: 'target'",
            "\nThe above exception was the direct cause of the following exception:\n",
            "\u001b[0;31mKeyError\u001b[0m                                  Traceback (most recent call last)",
            "Cell \u001b[0;32mIn[58], line 2\u001b[0m\n\u001b[1;32m      1\u001b[0m \u001b[38;5;66;03m# Записываем в переменную targets столбец \"Target\" из train\u001b[39;00m\n\u001b[0;32m----> 2\u001b[0m targets \u001b[38;5;241m=\u001b[39m \u001b[43mdf_train\u001b[49m\u001b[43m[\u001b[49m\u001b[38;5;124;43m\"\u001b[39;49m\u001b[38;5;124;43mtarget\u001b[39;49m\u001b[38;5;124;43m\"\u001b[39;49m\u001b[43m]\u001b[49m\u001b[38;5;241m.\u001b[39mvalues  \u001b[38;5;66;03m# Сохраняем значения в массив\u001b[39;00m\n\u001b[1;32m      3\u001b[0m df_train\u001b[38;5;241m.\u001b[39mdrop(\u001b[38;5;124m\"\u001b[39m\u001b[38;5;124mtarget\u001b[39m\u001b[38;5;124m\"\u001b[39m, axis\u001b[38;5;241m=\u001b[39m\u001b[38;5;241m1\u001b[39m, inplace\u001b[38;5;241m=\u001b[39m\u001b[38;5;28;01mTrue\u001b[39;00m)\n",
            "File \u001b[0;32m~/anaconda3/envs/practicum/lib/python3.9/site-packages/pandas/core/frame.py:3896\u001b[0m, in \u001b[0;36mDataFrame.__getitem__\u001b[0;34m(self, key)\u001b[0m\n\u001b[1;32m   3894\u001b[0m \u001b[38;5;28;01mif\u001b[39;00m \u001b[38;5;28mself\u001b[39m\u001b[38;5;241m.\u001b[39mcolumns\u001b[38;5;241m.\u001b[39mnlevels \u001b[38;5;241m>\u001b[39m \u001b[38;5;241m1\u001b[39m:\n\u001b[1;32m   3895\u001b[0m     \u001b[38;5;28;01mreturn\u001b[39;00m \u001b[38;5;28mself\u001b[39m\u001b[38;5;241m.\u001b[39m_getitem_multilevel(key)\n\u001b[0;32m-> 3896\u001b[0m indexer \u001b[38;5;241m=\u001b[39m \u001b[38;5;28;43mself\u001b[39;49m\u001b[38;5;241;43m.\u001b[39;49m\u001b[43mcolumns\u001b[49m\u001b[38;5;241;43m.\u001b[39;49m\u001b[43mget_loc\u001b[49m\u001b[43m(\u001b[49m\u001b[43mkey\u001b[49m\u001b[43m)\u001b[49m\n\u001b[1;32m   3897\u001b[0m \u001b[38;5;28;01mif\u001b[39;00m is_integer(indexer):\n\u001b[1;32m   3898\u001b[0m     indexer \u001b[38;5;241m=\u001b[39m [indexer]\n",
            "File \u001b[0;32m~/anaconda3/envs/practicum/lib/python3.9/site-packages/pandas/core/indexes/base.py:3797\u001b[0m, in \u001b[0;36mIndex.get_loc\u001b[0;34m(self, key)\u001b[0m\n\u001b[1;32m   3792\u001b[0m     \u001b[38;5;28;01mif\u001b[39;00m \u001b[38;5;28misinstance\u001b[39m(casted_key, \u001b[38;5;28mslice\u001b[39m) \u001b[38;5;129;01mor\u001b[39;00m (\n\u001b[1;32m   3793\u001b[0m         \u001b[38;5;28misinstance\u001b[39m(casted_key, abc\u001b[38;5;241m.\u001b[39mIterable)\n\u001b[1;32m   3794\u001b[0m         \u001b[38;5;129;01mand\u001b[39;00m \u001b[38;5;28many\u001b[39m(\u001b[38;5;28misinstance\u001b[39m(x, \u001b[38;5;28mslice\u001b[39m) \u001b[38;5;28;01mfor\u001b[39;00m x \u001b[38;5;129;01min\u001b[39;00m casted_key)\n\u001b[1;32m   3795\u001b[0m     ):\n\u001b[1;32m   3796\u001b[0m         \u001b[38;5;28;01mraise\u001b[39;00m InvalidIndexError(key)\n\u001b[0;32m-> 3797\u001b[0m     \u001b[38;5;28;01mraise\u001b[39;00m \u001b[38;5;167;01mKeyError\u001b[39;00m(key) \u001b[38;5;28;01mfrom\u001b[39;00m \u001b[38;5;21;01merr\u001b[39;00m\n\u001b[1;32m   3798\u001b[0m \u001b[38;5;28;01mexcept\u001b[39;00m \u001b[38;5;167;01mTypeError\u001b[39;00m:\n\u001b[1;32m   3799\u001b[0m     \u001b[38;5;66;03m# If we have a listlike key, _check_indexing_error will raise\u001b[39;00m\n\u001b[1;32m   3800\u001b[0m     \u001b[38;5;66;03m#  InvalidIndexError. Otherwise we fall through and re-raise\u001b[39;00m\n\u001b[1;32m   3801\u001b[0m     \u001b[38;5;66;03m#  the TypeError.\u001b[39;00m\n\u001b[1;32m   3802\u001b[0m     \u001b[38;5;28mself\u001b[39m\u001b[38;5;241m.\u001b[39m_check_indexing_error(key)\n",
            "\u001b[0;31mKeyError\u001b[0m: 'target'"
          ]
        }
      ],
      "source": [
        "# Записываем в переменную targets столбец \"Target\" из train\n",
        "targets = df_train[\"target\"].values  # Сохраняем значения в массив\n",
        "df_train.drop(\"target\", axis=1, inplace=True)"
      ]
    },
    {
      "cell_type": "code",
      "execution_count": null,
      "metadata": {
        "id": "qf109ZUnl8RV"
      },
      "outputs": [],
      "source": [
        "# Находим пять индексов (пять соседей) для train из base\n",
        "r, idx = idx_l2.search(np.ascontiguousarray(df_train.values).astype(\"float32\"), 5)"
      ]
    },
    {
      "cell_type": "code",
      "execution_count": null,
      "metadata": {
        "id": "HRaYdMcQl80B"
      },
      "outputs": [],
      "source": [
        "# Проверяем качество алгоритма\n",
        "acc = 0\n",
        "for target, neighbors in zip(targets, idx):\n",
        "    acc += int(target in [base_index[r] for r in neighbors])"
      ]
    },
    {
      "cell_type": "code",
      "execution_count": null,
      "metadata": {
        "colab": {
          "base_uri": "https://localhost:8080/"
        },
        "id": "nCN5N7G6l3NP",
        "outputId": "6394e27e-fc98-4f21-fc5b-37019b0f45dc"
      },
      "outputs": [],
      "source": [
        "# Вывод точности\n",
        "accuracy = 100 * acc / len(idx)\n",
        "print(f\"Accuracy: {accuracy:.2f}%\")"
      ]
    },
    {
      "cell_type": "code",
      "execution_count": null,
      "metadata": {
        "colab": {
          "base_uri": "https://localhost:8080/"
        },
        "id": "H1DJ8o4KlZ_x",
        "outputId": "226bd4e0-7425-4004-cadf-f953695967ad"
      },
      "outputs": [],
      "source": [
        "# Выводим точность\n",
        "accuracy = 100 * acc / len(idx_val)\n",
        "print(f\"Accuracy на валидации: {accuracy:.2f}%\")"
      ]
    },
    {
      "cell_type": "code",
      "execution_count": null,
      "metadata": {
        "id": "xExDU_o9lZ6x"
      },
      "outputs": [],
      "source": []
    },
    {
      "cell_type": "code",
      "execution_count": null,
      "metadata": {
        "id": "krGRZbDdlZ0H"
      },
      "outputs": [],
      "source": []
    },
    {
      "cell_type": "code",
      "execution_count": null,
      "metadata": {
        "id": "EBLB_ChNlZpf"
      },
      "outputs": [],
      "source": []
    },
    {
      "cell_type": "code",
      "execution_count": null,
      "metadata": {
        "id": "bNU3VE31lZmk"
      },
      "outputs": [],
      "source": []
    },
    {
      "cell_type": "code",
      "execution_count": null,
      "metadata": {
        "id": "34R1v0wdlZjc"
      },
      "outputs": [],
      "source": []
    },
    {
      "cell_type": "code",
      "execution_count": null,
      "metadata": {
        "id": "I0uxHUQx-Efx"
      },
      "outputs": [],
      "source": [
        "# Определяем размер индексных векторов, равный количеству столбцов в base\n",
        "dims = df_base.shape[1]"
      ]
    },
    {
      "cell_type": "code",
      "execution_count": null,
      "metadata": {
        "id": "K3A1UGn3-EV7"
      },
      "outputs": [],
      "source": [
        "# Определяем количество кластеров/центроидов\n",
        "n_cells = 25"
      ]
    },
    {
      "cell_type": "code",
      "execution_count": null,
      "metadata": {
        "id": "sH_pGwKP-941"
      },
      "outputs": [],
      "source": [
        "# Инициализируем квантователь\n",
        "quantizer = faiss.IndexFlatL2(dims)"
      ]
    },
    {
      "cell_type": "code",
      "execution_count": null,
      "metadata": {
        "id": "zh33aios_NEY"
      },
      "outputs": [],
      "source": [
        "# Определяем индекс\n",
        "idx_l2 = faiss.IndexIVFFlat(quantizer, dims, n_cells)"
      ]
    },
    {
      "cell_type": "code",
      "execution_count": null,
      "metadata": {
        "id": "uCP6LkT3_NBb"
      },
      "outputs": [],
      "source": [
        "# Устанавливаем количество кластеров для поиска\n",
        "idx_l2.nprobe = 3"
      ]
    },
    {
      "cell_type": "code",
      "execution_count": null,
      "metadata": {
        "id": "KVMpU4Sy_M-O"
      },
      "outputs": [],
      "source": [
        "# Обучаем индекс для создания кластеров\n",
        "idx_l2.train(np.ascontiguousarray(df_base.values[:50000, :]).astype(\"float32\"))"
      ]
    },
    {
      "cell_type": "code",
      "execution_count": null,
      "metadata": {
        "id": "gUH0ookA_dDr"
      },
      "outputs": [],
      "source": [
        "# Добавляем векторы в кластеры\n",
        "idx_l2.add(np.ascontiguousarray(df_base.values).astype(\"float32\"))"
      ]
    },
    {
      "cell_type": "code",
      "execution_count": null,
      "metadata": {
        "id": "F-2ajU6r_M7e"
      },
      "outputs": [],
      "source": [
        "# Индексы base переводим в счетчик, начинающийся с нуля\n",
        "base_index = {k: v for k, v in enumerate(df_base.index.to_list())}"
      ]
    },
    {
      "cell_type": "code",
      "execution_count": null,
      "metadata": {
        "id": "7YiE-XDM_kN4"
      },
      "outputs": [],
      "source": [
        "# Записываем в переменную targets столбец \"Target\" из train\n",
        "targets = df_train[\"target\"].values  # Сохраняем значения в массив\n",
        "df_train.drop(\"target\", axis=1, inplace=True)"
      ]
    },
    {
      "cell_type": "code",
      "execution_count": null,
      "metadata": {
        "id": "6czR_M4Q_kJn"
      },
      "outputs": [],
      "source": [
        "# Находим пять индексов (пять соседей) для train из base\n",
        "r, idx = idx_l2.search(np.ascontiguousarray(df_train.values).astype(\"float32\"), 5)"
      ]
    },
    {
      "cell_type": "code",
      "execution_count": null,
      "metadata": {
        "id": "Nn1E4rg5_j_Y"
      },
      "outputs": [],
      "source": [
        "# Проверяем качество алгоритма\n",
        "acc = 0\n",
        "for target, neighbors in zip(targets, idx):\n",
        "    acc += int(target in [base_index[r] for r in neighbors])"
      ]
    },
    {
      "cell_type": "code",
      "execution_count": null,
      "metadata": {
        "colab": {
          "base_uri": "https://localhost:8080/"
        },
        "id": "kaiDRdRK_jau",
        "outputId": "4ec55bcf-9b6e-4f9a-d333-68caa0447709"
      },
      "outputs": [],
      "source": [
        "# Вывод точности\n",
        "accuracy = 100 * acc / len(idx)\n",
        "print(f\"Accuracy: {accuracy:.2f}%\")"
      ]
    },
    {
      "cell_type": "markdown",
      "metadata": {
        "id": "NDSLFKecFLmX"
      },
      "source": [
        "Получаем accuracy@5, равное 76.26%, результат вполне отличный, переходим к применению алгоритма для поставленной задачи."
      ]
    },
    {
      "cell_type": "markdown",
      "metadata": {
        "id": "38opBup-GqkU"
      },
      "source": [
        "Поиск соседей: Используется метод `search` индекса `idx_l2` для поиска пяти ближайших соседей векторов из `df_validation` в данных из `df_base`. Результат включает расстояния до соседей `(r_val)` и индексы соседей `(idx_val)`. Векторы преобразуются в формат float32."
      ]
    },
    {
      "cell_type": "code",
      "execution_count": null,
      "metadata": {
        "id": "zVAE8QOOG9sG"
      },
      "outputs": [],
      "source": [
        "# Поиск пяти индексов (пяти соседей) для validation из base\n",
        "r_val, idx_val = idx_l2.search(np.ascontiguousarray(df_validation.values).astype(\"float32\"), 5)"
      ]
    },
    {
      "cell_type": "code",
      "execution_count": null,
      "metadata": {
        "colab": {
          "base_uri": "https://localhost:8080/"
        },
        "id": "ResG3SZ6HImi",
        "outputId": "0eadc54d-a9b0-4710-a4a4-c2863aa0636c"
      },
      "outputs": [],
      "source": [
        "# Выводим на экран индексы пяти ближайших соседей из base для каждого товара validation\n",
        "print(\"Индексы пяти ближайших соседей:\")\n",
        "print(idx_val)"
      ]
    },
    {
      "cell_type": "markdown",
      "metadata": {
        "id": "K8Z-jGbFHTDW"
      },
      "source": [
        "Для получения правильных ответов достанем столбец \"expected\" из df_validation_answer, который содержит правильные ответы для валидационных данных. Эти значения сохраним в массив `targets_valid`."
      ]
    },
    {
      "cell_type": "code",
      "execution_count": null,
      "metadata": {
        "id": "eEg_PqJkHSYH"
      },
      "outputs": [],
      "source": [
        "# Извлекаем правильные ответы из df_valid_answer\n",
        "targets_valid = df_validation_answer[\"expected\"].values"
      ]
    },
    {
      "cell_type": "code",
      "execution_count": null,
      "metadata": {
        "colab": {
          "base_uri": "https://localhost:8080/"
        },
        "id": "XRUB3zkzHoHY",
        "outputId": "fbab31b8-df4f-4889-caf0-dbd065fdae2a"
      },
      "outputs": [],
      "source": [
        "targets_valid"
      ]
    },
    {
      "cell_type": "markdown",
      "metadata": {
        "id": "a1KGL-RAHuuN"
      },
      "source": [
        "Подготовим счетчик: Переменная acc используется для подсчета количества правильных предсказаний. Затем создается словарь base_index, который сопоставляет индекс DataFrame df_base с его позициями для более легкого поиска."
      ]
    },
    {
      "cell_type": "code",
      "execution_count": null,
      "metadata": {
        "id": "aF6gwv1tHqHX"
      },
      "outputs": [],
      "source": [
        "acc = 0\n",
        "base_index = {key: value for key, value in enumerate(df_base.index.to_list())}"
      ]
    },
    {
      "cell_type": "markdown",
      "metadata": {
        "id": "DVx4wjwwI_vp"
      },
      "source": [
        "Переберем все целевые значения (targets_valid) и соответствующих им соседей (idx_val). Для каждого целевого значения проверяется, находится ли оно среди предсказанных ближайших соседей. Если да, счетчик acc увеличивается на 1."
      ]
    },
    {
      "cell_type": "code",
      "execution_count": null,
      "metadata": {
        "id": "Ov5YVUZmJNix"
      },
      "outputs": [],
      "source": [
        "for target, neighbors in zip(targets_valid, idx_val):\n",
        "    acc += any(target == base_index[row] for row in neighbors)"
      ]
    },
    {
      "cell_type": "code",
      "execution_count": null,
      "metadata": {
        "colab": {
          "base_uri": "https://localhost:8080/"
        },
        "id": "v3sr_-MGKDMK",
        "outputId": "cd4a6484-ff45-4cf1-fe86-31c5e60b556c"
      },
      "outputs": [],
      "source": [
        "# Выводим точность\n",
        "accuracy = 100 * acc / len(idx_val)\n",
        "print(f\"Accuracy на валидации: {accuracy:.2f}%\")"
      ]
    },
    {
      "cell_type": "code",
      "execution_count": null,
      "metadata": {
        "id": "V-rHeYrUFFdk"
      },
      "outputs": [],
      "source": []
    },
    {
      "cell_type": "code",
      "execution_count": null,
      "metadata": {
        "id": "qsSW-ZelFFTr"
      },
      "outputs": [],
      "source": []
    },
    {
      "cell_type": "code",
      "execution_count": null,
      "metadata": {
        "id": "wH_jgKdT_M4W"
      },
      "outputs": [],
      "source": []
    },
    {
      "cell_type": "code",
      "execution_count": null,
      "metadata": {
        "id": "JdZ-XcSztNUh"
      },
      "outputs": [],
      "source": []
    },
    {
      "cell_type": "code",
      "execution_count": null,
      "metadata": {
        "id": "Mb1i9MGqtNKo"
      },
      "outputs": [],
      "source": []
    },
    {
      "cell_type": "code",
      "execution_count": null,
      "metadata": {
        "id": "-r6KGYemZY3r"
      },
      "outputs": [],
      "source": []
    },
    {
      "cell_type": "code",
      "execution_count": null,
      "metadata": {
        "id": "bfd-EAaDWZGj"
      },
      "outputs": [],
      "source": []
    },
    {
      "cell_type": "code",
      "execution_count": null,
      "metadata": {
        "id": "kZpJIsO2Yscn"
      },
      "outputs": [],
      "source": []
    },
    {
      "cell_type": "code",
      "execution_count": null,
      "metadata": {
        "id": "siU6uYdEYK14"
      },
      "outputs": [],
      "source": []
    },
    {
      "cell_type": "code",
      "execution_count": null,
      "metadata": {
        "id": "JzWBzh0lYFOT"
      },
      "outputs": [],
      "source": []
    },
    {
      "cell_type": "code",
      "execution_count": null,
      "metadata": {
        "id": "4cQ_-NC_YFL3"
      },
      "outputs": [],
      "source": []
    },
    {
      "cell_type": "code",
      "execution_count": null,
      "metadata": {
        "id": "JhjalEp5YFCv"
      },
      "outputs": [],
      "source": []
    },
    {
      "cell_type": "code",
      "execution_count": null,
      "metadata": {
        "id": "57aaoyETWY3s"
      },
      "outputs": [],
      "source": []
    },
    {
      "cell_type": "code",
      "execution_count": null,
      "metadata": {
        "id": "gnucP4oWWY05"
      },
      "outputs": [],
      "source": []
    },
    {
      "cell_type": "code",
      "execution_count": null,
      "metadata": {
        "id": "SFByeAXvWYyb"
      },
      "outputs": [],
      "source": []
    },
    {
      "cell_type": "code",
      "execution_count": null,
      "metadata": {
        "id": "3Z8-BUkdWYvX"
      },
      "outputs": [],
      "source": []
    },
    {
      "cell_type": "code",
      "execution_count": null,
      "metadata": {
        "id": "5JZU6M9hWYs6"
      },
      "outputs": [],
      "source": []
    },
    {
      "cell_type": "code",
      "execution_count": null,
      "metadata": {
        "id": "A-fHXlgQWYqX"
      },
      "outputs": [],
      "source": []
    },
    {
      "cell_type": "code",
      "execution_count": null,
      "metadata": {
        "id": "uDoqU3oJUrjY"
      },
      "outputs": [],
      "source": []
    },
    {
      "cell_type": "code",
      "execution_count": null,
      "metadata": {
        "id": "W0zwepD_Urgx"
      },
      "outputs": [],
      "source": []
    },
    {
      "cell_type": "code",
      "execution_count": null,
      "metadata": {
        "id": "WfR-INT3Urb6"
      },
      "outputs": [],
      "source": []
    },
    {
      "cell_type": "code",
      "execution_count": null,
      "metadata": {
        "id": "A3CkWMhWUrZm"
      },
      "outputs": [],
      "source": []
    }
  ],
  "metadata": {
    "colab": {
      "authorship_tag": "ABX9TyPDfSuDhEKqTm/Y/liylRni",
      "provenance": [],
      "toc_visible": true
    },
    "kernelspec": {
      "display_name": "Python 3",
      "name": "python3"
    },
    "language_info": {
      "codemirror_mode": {
        "name": "ipython",
        "version": 3
      },
      "file_extension": ".py",
      "mimetype": "text/x-python",
      "name": "python",
      "nbconvert_exporter": "python",
      "pygments_lexer": "ipython3",
      "version": "3.9.18"
    }
  },
  "nbformat": 4,
  "nbformat_minor": 0
}
